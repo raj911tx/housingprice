{
  "nbformat": 4,
  "nbformat_minor": 0,
  "metadata": {
    "colab": {
      "name": "housing price",
      "provenance": [],
      "collapsed_sections": [],
      "authorship_tag": "ABX9TyMigKFV+QOqkmJxssMWeCln",
      "include_colab_link": true
    },
    "kernelspec": {
      "name": "python3",
      "display_name": "Python 3"
    }
  },
  "cells": [
    {
      "cell_type": "markdown",
      "metadata": {
        "id": "view-in-github",
        "colab_type": "text"
      },
      "source": [
        "<a href=\"https://colab.research.google.com/github/raj911tx/housingprice/blob/master/housing_price.ipynb\" target=\"_parent\"><img src=\"https://colab.research.google.com/assets/colab-badge.svg\" alt=\"Open In Colab\"/></a>"
      ]
    },
    {
      "cell_type": "markdown",
      "metadata": {
        "id": "GBDycRS-dHbw",
        "colab_type": "text"
      },
      "source": [
        "## In this project we are trying to predict housing prices in King Country from kaggle dataset.This dataset contains house sale prices for King County, which includes Seattle. It includes homes sold between May 2014 and May 2015."
      ]
    },
    {
      "cell_type": "markdown",
      "metadata": {
        "id": "D4TPy_2BfXTK",
        "colab_type": "text"
      },
      "source": [
        "[house sales in king Country](https://www.kaggle.com/harlfoxem/housesalesprediction)"
      ]
    },
    {
      "cell_type": "markdown",
      "metadata": {
        "id": "ST97IKjcdpuM",
        "colab_type": "text"
      },
      "source": [
        "install kaggle api by running this command"
      ]
    },
    {
      "cell_type": "code",
      "metadata": {
        "id": "2F3RqHUf2db4",
        "colab_type": "code",
        "colab": {}
      },
      "source": [
        "from google.colab import files\n",
        "!pip install -q kaggle"
      ],
      "execution_count": 0,
      "outputs": []
    },
    {
      "cell_type": "code",
      "metadata": {
        "id": "fc_0CxdF2xIJ",
        "colab_type": "code",
        "outputId": "189d9ad4-069e-4b36-fdab-e49fc369ee24",
        "colab": {
          "resources": {
            "http://localhost:8080/nbextensions/google.colab/files.js": {
              "data": "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",
              "ok": true,
              "headers": [
                [
                  "content-type",
                  "application/javascript"
                ]
              ],
              "status": 200,
              "status_text": ""
            }
          },
          "base_uri": "https://localhost:8080/",
          "height": 75
        }
      },
      "source": [
        "uploaded=files.upload()"
      ],
      "execution_count": 0,
      "outputs": [
        {
          "output_type": "display_data",
          "data": {
            "text/html": [
              "\n",
              "     <input type=\"file\" id=\"files-2ec3ca0d-f27f-43d5-9e5f-6ccaf52847f5\" name=\"files[]\" multiple disabled />\n",
              "     <output id=\"result-2ec3ca0d-f27f-43d5-9e5f-6ccaf52847f5\">\n",
              "      Upload widget is only available when the cell has been executed in the\n",
              "      current browser session. Please rerun this cell to enable.\n",
              "      </output>\n",
              "      <script src=\"/nbextensions/google.colab/files.js\"></script> "
            ],
            "text/plain": [
              "<IPython.core.display.HTML object>"
            ]
          },
          "metadata": {
            "tags": []
          }
        },
        {
          "output_type": "stream",
          "text": [
            "Saving kaggle.json to kaggle (1).json\n"
          ],
          "name": "stdout"
        }
      ]
    },
    {
      "cell_type": "code",
      "metadata": {
        "id": "pmk5IkWX3H3l",
        "colab_type": "code",
        "outputId": "a25aa53f-0122-4caa-a193-7fcea322c0a6",
        "colab": {
          "base_uri": "https://localhost:8080/",
          "height": 35
        }
      },
      "source": [
        "!mkdir -p ~/.kaggle\n",
        "!cp kaggle.json ~/.kaggle/\n",
        "!ls ~/.kaggle\n",
        "!chmod 600 /root/.kaggle/kaggle.json"
      ],
      "execution_count": 0,
      "outputs": [
        {
          "output_type": "stream",
          "text": [
            "kaggle.json\n"
          ],
          "name": "stdout"
        }
      ]
    },
    {
      "cell_type": "markdown",
      "metadata": {
        "id": "QXDA9IHhd2TR",
        "colab_type": "text"
      },
      "source": [
        "Now download the dataset by running this command"
      ]
    },
    {
      "cell_type": "code",
      "metadata": {
        "id": "_D2VKJQm3Pol",
        "colab_type": "code",
        "outputId": "8ae7797e-d828-4746-9692-fbca30414ca4",
        "colab": {
          "base_uri": "https://localhost:8080/",
          "height": 70
        }
      },
      "source": [
        "!kaggle datasets download -d harlfoxem/housesalesprediction"
      ],
      "execution_count": 0,
      "outputs": [
        {
          "output_type": "stream",
          "text": [
            "Downloading housesalesprediction.zip to /content\n",
            "\r  0% 0.00/780k [00:00<?, ?B/s]\n",
            "\r100% 780k/780k [00:00<00:00, 52.8MB/s]\n"
          ],
          "name": "stdout"
        }
      ]
    },
    {
      "cell_type": "code",
      "metadata": {
        "id": "Wm4uYYHi3u2M",
        "colab_type": "code",
        "outputId": "6b2cb426-a277-451f-a7e1-4710f2e7119a",
        "colab": {
          "base_uri": "https://localhost:8080/",
          "height": 70
        }
      },
      "source": [
        "!ls\n",
        "!unzip -q housesalesprediction.zip\n",
        "!rm housesalesprediction.zip"
      ],
      "execution_count": 0,
      "outputs": [
        {
          "output_type": "stream",
          "text": [
            " housesalesprediction.zip   kaggle.json         sample_data\n",
            "'kaggle (1).json'\t    kc_house_data.csv\n",
            "replace kc_house_data.csv? [y]es, [n]o, [A]ll, [N]one, [r]ename: y\n"
          ],
          "name": "stdout"
        }
      ]
    },
    {
      "cell_type": "markdown",
      "metadata": {
        "id": "Yahw9YISd-uf",
        "colab_type": "text"
      },
      "source": [
        "Now after unzipping the file we now see the .csv file "
      ]
    },
    {
      "cell_type": "code",
      "metadata": {
        "id": "Qf5BBFEY4DDi",
        "colab_type": "code",
        "outputId": "25130e6e-4fdc-412c-fc45-6f2f12a42ec2",
        "colab": {
          "base_uri": "https://localhost:8080/",
          "height": 214
        }
      },
      "source": [
        "import pandas as pd\n",
        "import seaborn as sns\n",
        "import numpy as np\n",
        "import matplotlib.pyplot as plt\n",
        "df=pd.read_csv('kc_house_data.csv')\n",
        "df.head()"
      ],
      "execution_count": 0,
      "outputs": [
        {
          "output_type": "execute_result",
          "data": {
            "text/html": [
              "<div>\n",
              "<style scoped>\n",
              "    .dataframe tbody tr th:only-of-type {\n",
              "        vertical-align: middle;\n",
              "    }\n",
              "\n",
              "    .dataframe tbody tr th {\n",
              "        vertical-align: top;\n",
              "    }\n",
              "\n",
              "    .dataframe thead th {\n",
              "        text-align: right;\n",
              "    }\n",
              "</style>\n",
              "<table border=\"1\" class=\"dataframe\">\n",
              "  <thead>\n",
              "    <tr style=\"text-align: right;\">\n",
              "      <th></th>\n",
              "      <th>id</th>\n",
              "      <th>date</th>\n",
              "      <th>price</th>\n",
              "      <th>bedrooms</th>\n",
              "      <th>bathrooms</th>\n",
              "      <th>sqft_living</th>\n",
              "      <th>sqft_lot</th>\n",
              "      <th>floors</th>\n",
              "      <th>waterfront</th>\n",
              "      <th>view</th>\n",
              "      <th>condition</th>\n",
              "      <th>grade</th>\n",
              "      <th>sqft_above</th>\n",
              "      <th>sqft_basement</th>\n",
              "      <th>yr_built</th>\n",
              "      <th>yr_renovated</th>\n",
              "      <th>zipcode</th>\n",
              "      <th>lat</th>\n",
              "      <th>long</th>\n",
              "      <th>sqft_living15</th>\n",
              "      <th>sqft_lot15</th>\n",
              "    </tr>\n",
              "  </thead>\n",
              "  <tbody>\n",
              "    <tr>\n",
              "      <th>0</th>\n",
              "      <td>7129300520</td>\n",
              "      <td>20141013T000000</td>\n",
              "      <td>221900.0</td>\n",
              "      <td>3</td>\n",
              "      <td>1.00</td>\n",
              "      <td>1180</td>\n",
              "      <td>5650</td>\n",
              "      <td>1.0</td>\n",
              "      <td>0</td>\n",
              "      <td>0</td>\n",
              "      <td>3</td>\n",
              "      <td>7</td>\n",
              "      <td>1180</td>\n",
              "      <td>0</td>\n",
              "      <td>1955</td>\n",
              "      <td>0</td>\n",
              "      <td>98178</td>\n",
              "      <td>47.5112</td>\n",
              "      <td>-122.257</td>\n",
              "      <td>1340</td>\n",
              "      <td>5650</td>\n",
              "    </tr>\n",
              "    <tr>\n",
              "      <th>1</th>\n",
              "      <td>6414100192</td>\n",
              "      <td>20141209T000000</td>\n",
              "      <td>538000.0</td>\n",
              "      <td>3</td>\n",
              "      <td>2.25</td>\n",
              "      <td>2570</td>\n",
              "      <td>7242</td>\n",
              "      <td>2.0</td>\n",
              "      <td>0</td>\n",
              "      <td>0</td>\n",
              "      <td>3</td>\n",
              "      <td>7</td>\n",
              "      <td>2170</td>\n",
              "      <td>400</td>\n",
              "      <td>1951</td>\n",
              "      <td>1991</td>\n",
              "      <td>98125</td>\n",
              "      <td>47.7210</td>\n",
              "      <td>-122.319</td>\n",
              "      <td>1690</td>\n",
              "      <td>7639</td>\n",
              "    </tr>\n",
              "    <tr>\n",
              "      <th>2</th>\n",
              "      <td>5631500400</td>\n",
              "      <td>20150225T000000</td>\n",
              "      <td>180000.0</td>\n",
              "      <td>2</td>\n",
              "      <td>1.00</td>\n",
              "      <td>770</td>\n",
              "      <td>10000</td>\n",
              "      <td>1.0</td>\n",
              "      <td>0</td>\n",
              "      <td>0</td>\n",
              "      <td>3</td>\n",
              "      <td>6</td>\n",
              "      <td>770</td>\n",
              "      <td>0</td>\n",
              "      <td>1933</td>\n",
              "      <td>0</td>\n",
              "      <td>98028</td>\n",
              "      <td>47.7379</td>\n",
              "      <td>-122.233</td>\n",
              "      <td>2720</td>\n",
              "      <td>8062</td>\n",
              "    </tr>\n",
              "    <tr>\n",
              "      <th>3</th>\n",
              "      <td>2487200875</td>\n",
              "      <td>20141209T000000</td>\n",
              "      <td>604000.0</td>\n",
              "      <td>4</td>\n",
              "      <td>3.00</td>\n",
              "      <td>1960</td>\n",
              "      <td>5000</td>\n",
              "      <td>1.0</td>\n",
              "      <td>0</td>\n",
              "      <td>0</td>\n",
              "      <td>5</td>\n",
              "      <td>7</td>\n",
              "      <td>1050</td>\n",
              "      <td>910</td>\n",
              "      <td>1965</td>\n",
              "      <td>0</td>\n",
              "      <td>98136</td>\n",
              "      <td>47.5208</td>\n",
              "      <td>-122.393</td>\n",
              "      <td>1360</td>\n",
              "      <td>5000</td>\n",
              "    </tr>\n",
              "    <tr>\n",
              "      <th>4</th>\n",
              "      <td>1954400510</td>\n",
              "      <td>20150218T000000</td>\n",
              "      <td>510000.0</td>\n",
              "      <td>3</td>\n",
              "      <td>2.00</td>\n",
              "      <td>1680</td>\n",
              "      <td>8080</td>\n",
              "      <td>1.0</td>\n",
              "      <td>0</td>\n",
              "      <td>0</td>\n",
              "      <td>3</td>\n",
              "      <td>8</td>\n",
              "      <td>1680</td>\n",
              "      <td>0</td>\n",
              "      <td>1987</td>\n",
              "      <td>0</td>\n",
              "      <td>98074</td>\n",
              "      <td>47.6168</td>\n",
              "      <td>-122.045</td>\n",
              "      <td>1800</td>\n",
              "      <td>7503</td>\n",
              "    </tr>\n",
              "  </tbody>\n",
              "</table>\n",
              "</div>"
            ],
            "text/plain": [
              "           id             date     price  ...     long  sqft_living15  sqft_lot15\n",
              "0  7129300520  20141013T000000  221900.0  ... -122.257           1340        5650\n",
              "1  6414100192  20141209T000000  538000.0  ... -122.319           1690        7639\n",
              "2  5631500400  20150225T000000  180000.0  ... -122.233           2720        8062\n",
              "3  2487200875  20141209T000000  604000.0  ... -122.393           1360        5000\n",
              "4  1954400510  20150218T000000  510000.0  ... -122.045           1800        7503\n",
              "\n",
              "[5 rows x 21 columns]"
            ]
          },
          "metadata": {
            "tags": []
          },
          "execution_count": 32
        }
      ]
    },
    {
      "cell_type": "markdown",
      "metadata": {
        "id": "cNGARk7VeHXE",
        "colab_type": "text"
      },
      "source": [
        "The column names are follows:"
      ]
    },
    {
      "cell_type": "code",
      "metadata": {
        "id": "1kE557g56T6w",
        "colab_type": "code",
        "outputId": "3d99bd5b-ccc3-464b-c5f1-f544b787d462",
        "colab": {
          "base_uri": "https://localhost:8080/",
          "height": 106
        }
      },
      "source": [
        "df.columns"
      ],
      "execution_count": 0,
      "outputs": [
        {
          "output_type": "execute_result",
          "data": {
            "text/plain": [
              "Index(['id', 'date', 'price', 'bedrooms', 'bathrooms', 'sqft_living',\n",
              "       'sqft_lot', 'floors', 'waterfront', 'view', 'condition', 'grade',\n",
              "       'sqft_above', 'sqft_basement', 'yr_built', 'yr_renovated', 'zipcode',\n",
              "       'lat', 'long', 'sqft_living15', 'sqft_lot15'],\n",
              "      dtype='object')"
            ]
          },
          "metadata": {
            "tags": []
          },
          "execution_count": 33
        }
      ]
    },
    {
      "cell_type": "markdown",
      "metadata": {
        "id": "0IBhIkRVeNV1",
        "colab_type": "text"
      },
      "source": [
        "### Now we check if there is any missing value in columns"
      ]
    },
    {
      "cell_type": "code",
      "metadata": {
        "id": "W2ikyCwaCRfn",
        "colab_type": "code",
        "outputId": "909d6df9-4a7e-4b27-fe8d-75c5032800d7",
        "colab": {
          "base_uri": "https://localhost:8080/",
          "height": 408
        }
      },
      "source": [
        "df.isnull().sum()"
      ],
      "execution_count": 0,
      "outputs": [
        {
          "output_type": "execute_result",
          "data": {
            "text/plain": [
              "id               0\n",
              "date             0\n",
              "price            0\n",
              "bedrooms         0\n",
              "bathrooms        0\n",
              "sqft_living      0\n",
              "sqft_lot         0\n",
              "floors           0\n",
              "waterfront       0\n",
              "view             0\n",
              "condition        0\n",
              "grade            0\n",
              "sqft_above       0\n",
              "sqft_basement    0\n",
              "yr_built         0\n",
              "yr_renovated     0\n",
              "zipcode          0\n",
              "lat              0\n",
              "long             0\n",
              "sqft_living15    0\n",
              "sqft_lot15       0\n",
              "dtype: int64"
            ]
          },
          "metadata": {
            "tags": []
          },
          "execution_count": 34
        }
      ]
    },
    {
      "cell_type": "code",
      "metadata": {
        "id": "01zX0THl6Y_C",
        "colab_type": "code",
        "outputId": "8deca4bb-2315-470f-868d-2b35cededb41",
        "colab": {
          "base_uri": "https://localhost:8080/",
          "height": 177
        }
      },
      "source": [
        "df['price'].describe()"
      ],
      "execution_count": 0,
      "outputs": [
        {
          "output_type": "execute_result",
          "data": {
            "text/plain": [
              "count    2.161300e+04\n",
              "mean     5.400881e+05\n",
              "std      3.671272e+05\n",
              "min      7.500000e+04\n",
              "25%      3.219500e+05\n",
              "50%      4.500000e+05\n",
              "75%      6.450000e+05\n",
              "max      7.700000e+06\n",
              "Name: price, dtype: float64"
            ]
          },
          "metadata": {
            "tags": []
          },
          "execution_count": 35
        }
      ]
    },
    {
      "cell_type": "markdown",
      "metadata": {
        "id": "YHMMxIDuedb9",
        "colab_type": "text"
      },
      "source": [
        "## Now we visualize different columns to get intuition about their importance"
      ]
    },
    {
      "cell_type": "code",
      "metadata": {
        "id": "MKcBLXpH7yBK",
        "colab_type": "code",
        "outputId": "45520c01-a438-445a-bb1e-e924c9bb414c",
        "colab": {
          "base_uri": "https://localhost:8080/",
          "height": 308
        }
      },
      "source": [
        "sns.distplot(df['price'])"
      ],
      "execution_count": 0,
      "outputs": [
        {
          "output_type": "execute_result",
          "data": {
            "text/plain": [
              "<matplotlib.axes._subplots.AxesSubplot at 0x7f0cb0711b38>"
            ]
          },
          "metadata": {
            "tags": []
          },
          "execution_count": 36
        },
        {
          "output_type": "display_data",
          "data": {
            "image/png": "[encoded data removed]",
            "text/plain": [
              "<Figure size 432x288 with 1 Axes>"
            ]
          },
          "metadata": {
            "tags": [],
            "needs_background": "light"
          }
        }
      ]
    },
    {
      "cell_type": "code",
      "metadata": {
        "id": "NPvh-eSv781C",
        "colab_type": "code",
        "outputId": "3763ce34-1b8e-4285-9a78-1344da1e8fee",
        "colab": {
          "base_uri": "https://localhost:8080/",
          "height": 308
        }
      },
      "source": [
        "sns.scatterplot(x='sqft_living',y='price',data=df)"
      ],
      "execution_count": 0,
      "outputs": [
        {
          "output_type": "execute_result",
          "data": {
            "text/plain": [
              "<matplotlib.axes._subplots.AxesSubplot at 0x7f0cb053f978>"
            ]
          },
          "metadata": {
            "tags": []
          },
          "execution_count": 37
        },
        {
          "output_type": "display_data",
          "data": {
            "image/png": "[encoded data removed]",
            "text/plain": [
              "<Figure size 432x288 with 1 Axes>"
            ]
          },
          "metadata": {
            "tags": [],
            "needs_background": "light"
          }
        }
      ]
    },
    {
      "cell_type": "code",
      "metadata": {
        "id": "e2GZVQJKCxgP",
        "colab_type": "code",
        "outputId": "03ec273e-0d4e-4d84-a6a9-9d2543d3e029",
        "colab": {
          "base_uri": "https://localhost:8080/",
          "height": 297
        }
      },
      "source": [
        "sns.countplot(x='bedrooms',data=df)"
      ],
      "execution_count": 0,
      "outputs": [
        {
          "output_type": "execute_result",
          "data": {
            "text/plain": [
              "<matplotlib.axes._subplots.AxesSubplot at 0x7f0cb051b048>"
            ]
          },
          "metadata": {
            "tags": []
          },
          "execution_count": 38
        },
        {
          "output_type": "display_data",
          "data": {
            "image/png": "[encoded data removed]",
            "text/plain": [
              "<Figure size 432x288 with 1 Axes>"
            ]
          },
          "metadata": {
            "tags": [],
            "needs_background": "light"
          }
        }
      ]
    },
    {
      "cell_type": "code",
      "metadata": {
        "id": "qQkhbMWfDnoi",
        "colab_type": "code",
        "outputId": "3c59801c-27db-4c33-d91f-630d896bae90",
        "colab": {
          "base_uri": "https://localhost:8080/",
          "height": 299
        }
      },
      "source": [
        "sns.scatterplot(x='long',y='lat',hue='price',data=df)"
      ],
      "execution_count": 0,
      "outputs": [
        {
          "output_type": "execute_result",
          "data": {
            "text/plain": [
              "<matplotlib.axes._subplots.AxesSubplot at 0x7f0cb04a0208>"
            ]
          },
          "metadata": {
            "tags": []
          },
          "execution_count": 39
        },
        {
          "output_type": "display_data",
          "data": {
            "image/png": "[encoded data removed]",
            "text/plain": [
              "<Figure size 432x288 with 1 Axes>"
            ]
          },
          "metadata": {
            "tags": [],
            "needs_background": "light"
          }
        }
      ]
    },
    {
      "cell_type": "code",
      "metadata": {
        "id": "itHivkXAEGfN",
        "colab_type": "code",
        "outputId": "4508f330-3270-42d2-b4df-002e0425be09",
        "colab": {
          "base_uri": "https://localhost:8080/",
          "height": 308
        }
      },
      "source": [
        "sns.boxplot(x='grade',y='price',data=df)"
      ],
      "execution_count": 0,
      "outputs": [
        {
          "output_type": "execute_result",
          "data": {
            "text/plain": [
              "<matplotlib.axes._subplots.AxesSubplot at 0x7f0cb0388a58>"
            ]
          },
          "metadata": {
            "tags": []
          },
          "execution_count": 40
        },
        {
          "output_type": "display_data",
          "data": {
            "image/png": "[encoded data removed]",
            "text/plain": [
              "<Figure size 432x288 with 1 Axes>"
            ]
          },
          "metadata": {
            "tags": [],
            "needs_background": "light"
          }
        }
      ]
    },
    {
      "cell_type": "code",
      "metadata": {
        "id": "5f4AgsYwFdyK",
        "colab_type": "code",
        "outputId": "ba11954b-6e7a-4f54-af52-8dc80186b196",
        "colab": {
          "base_uri": "https://localhost:8080/",
          "height": 515
        }
      },
      "source": [
        "df.info()"
      ],
      "execution_count": 0,
      "outputs": [
        {
          "output_type": "stream",
          "text": [
            "<class 'pandas.core.frame.DataFrame'>\n",
            "RangeIndex: 21613 entries, 0 to 21612\n",
            "Data columns (total 21 columns):\n",
            " #   Column         Non-Null Count  Dtype  \n",
            "---  ------         --------------  -----  \n",
            " 0   id             21613 non-null  int64  \n",
            " 1   date           21613 non-null  object \n",
            " 2   price          21613 non-null  float64\n",
            " 3   bedrooms       21613 non-null  int64  \n",
            " 4   bathrooms      21613 non-null  float64\n",
            " 5   sqft_living    21613 non-null  int64  \n",
            " 6   sqft_lot       21613 non-null  int64  \n",
            " 7   floors         21613 non-null  float64\n",
            " 8   waterfront     21613 non-null  int64  \n",
            " 9   view           21613 non-null  int64  \n",
            " 10  condition      21613 non-null  int64  \n",
            " 11  grade          21613 non-null  int64  \n",
            " 12  sqft_above     21613 non-null  int64  \n",
            " 13  sqft_basement  21613 non-null  int64  \n",
            " 14  yr_built       21613 non-null  int64  \n",
            " 15  yr_renovated   21613 non-null  int64  \n",
            " 16  zipcode        21613 non-null  int64  \n",
            " 17  lat            21613 non-null  float64\n",
            " 18  long           21613 non-null  float64\n",
            " 19  sqft_living15  21613 non-null  int64  \n",
            " 20  sqft_lot15     21613 non-null  int64  \n",
            "dtypes: float64(5), int64(15), object(1)\n",
            "memory usage: 3.5+ MB\n"
          ],
          "name": "stdout"
        }
      ]
    },
    {
      "cell_type": "code",
      "metadata": {
        "id": "lXiQ8cQlF4E6",
        "colab_type": "code",
        "colab": {}
      },
      "source": [
        "df=df.drop('id',axis=1)"
      ],
      "execution_count": 0,
      "outputs": []
    },
    {
      "cell_type": "code",
      "metadata": {
        "id": "o9ixuGCGGRIQ",
        "colab_type": "code",
        "outputId": "533e40f2-999d-4ef4-b8b2-940d495bb583",
        "colab": {
          "base_uri": "https://localhost:8080/",
          "height": 214
        }
      },
      "source": [
        "df.head()"
      ],
      "execution_count": 0,
      "outputs": [
        {
          "output_type": "execute_result",
          "data": {
            "text/html": [
              "<div>\n",
              "<style scoped>\n",
              "    .dataframe tbody tr th:only-of-type {\n",
              "        vertical-align: middle;\n",
              "    }\n",
              "\n",
              "    .dataframe tbody tr th {\n",
              "        vertical-align: top;\n",
              "    }\n",
              "\n",
              "    .dataframe thead th {\n",
              "        text-align: right;\n",
              "    }\n",
              "</style>\n",
              "<table border=\"1\" class=\"dataframe\">\n",
              "  <thead>\n",
              "    <tr style=\"text-align: right;\">\n",
              "      <th></th>\n",
              "      <th>date</th>\n",
              "      <th>price</th>\n",
              "      <th>bedrooms</th>\n",
              "      <th>bathrooms</th>\n",
              "      <th>sqft_living</th>\n",
              "      <th>sqft_lot</th>\n",
              "      <th>floors</th>\n",
              "      <th>waterfront</th>\n",
              "      <th>view</th>\n",
              "      <th>condition</th>\n",
              "      <th>grade</th>\n",
              "      <th>sqft_above</th>\n",
              "      <th>sqft_basement</th>\n",
              "      <th>yr_built</th>\n",
              "      <th>yr_renovated</th>\n",
              "      <th>zipcode</th>\n",
              "      <th>lat</th>\n",
              "      <th>long</th>\n",
              "      <th>sqft_living15</th>\n",
              "      <th>sqft_lot15</th>\n",
              "    </tr>\n",
              "  </thead>\n",
              "  <tbody>\n",
              "    <tr>\n",
              "      <th>0</th>\n",
              "      <td>20141013T000000</td>\n",
              "      <td>221900.0</td>\n",
              "      <td>3</td>\n",
              "      <td>1.00</td>\n",
              "      <td>1180</td>\n",
              "      <td>5650</td>\n",
              "      <td>1.0</td>\n",
              "      <td>0</td>\n",
              "      <td>0</td>\n",
              "      <td>3</td>\n",
              "      <td>7</td>\n",
              "      <td>1180</td>\n",
              "      <td>0</td>\n",
              "      <td>1955</td>\n",
              "      <td>0</td>\n",
              "      <td>98178</td>\n",
              "      <td>47.5112</td>\n",
              "      <td>-122.257</td>\n",
              "      <td>1340</td>\n",
              "      <td>5650</td>\n",
              "    </tr>\n",
              "    <tr>\n",
              "      <th>1</th>\n",
              "      <td>20141209T000000</td>\n",
              "      <td>538000.0</td>\n",
              "      <td>3</td>\n",
              "      <td>2.25</td>\n",
              "      <td>2570</td>\n",
              "      <td>7242</td>\n",
              "      <td>2.0</td>\n",
              "      <td>0</td>\n",
              "      <td>0</td>\n",
              "      <td>3</td>\n",
              "      <td>7</td>\n",
              "      <td>2170</td>\n",
              "      <td>400</td>\n",
              "      <td>1951</td>\n",
              "      <td>1991</td>\n",
              "      <td>98125</td>\n",
              "      <td>47.7210</td>\n",
              "      <td>-122.319</td>\n",
              "      <td>1690</td>\n",
              "      <td>7639</td>\n",
              "    </tr>\n",
              "    <tr>\n",
              "      <th>2</th>\n",
              "      <td>20150225T000000</td>\n",
              "      <td>180000.0</td>\n",
              "      <td>2</td>\n",
              "      <td>1.00</td>\n",
              "      <td>770</td>\n",
              "      <td>10000</td>\n",
              "      <td>1.0</td>\n",
              "      <td>0</td>\n",
              "      <td>0</td>\n",
              "      <td>3</td>\n",
              "      <td>6</td>\n",
              "      <td>770</td>\n",
              "      <td>0</td>\n",
              "      <td>1933</td>\n",
              "      <td>0</td>\n",
              "      <td>98028</td>\n",
              "      <td>47.7379</td>\n",
              "      <td>-122.233</td>\n",
              "      <td>2720</td>\n",
              "      <td>8062</td>\n",
              "    </tr>\n",
              "    <tr>\n",
              "      <th>3</th>\n",
              "      <td>20141209T000000</td>\n",
              "      <td>604000.0</td>\n",
              "      <td>4</td>\n",
              "      <td>3.00</td>\n",
              "      <td>1960</td>\n",
              "      <td>5000</td>\n",
              "      <td>1.0</td>\n",
              "      <td>0</td>\n",
              "      <td>0</td>\n",
              "      <td>5</td>\n",
              "      <td>7</td>\n",
              "      <td>1050</td>\n",
              "      <td>910</td>\n",
              "      <td>1965</td>\n",
              "      <td>0</td>\n",
              "      <td>98136</td>\n",
              "      <td>47.5208</td>\n",
              "      <td>-122.393</td>\n",
              "      <td>1360</td>\n",
              "      <td>5000</td>\n",
              "    </tr>\n",
              "    <tr>\n",
              "      <th>4</th>\n",
              "      <td>20150218T000000</td>\n",
              "      <td>510000.0</td>\n",
              "      <td>3</td>\n",
              "      <td>2.00</td>\n",
              "      <td>1680</td>\n",
              "      <td>8080</td>\n",
              "      <td>1.0</td>\n",
              "      <td>0</td>\n",
              "      <td>0</td>\n",
              "      <td>3</td>\n",
              "      <td>8</td>\n",
              "      <td>1680</td>\n",
              "      <td>0</td>\n",
              "      <td>1987</td>\n",
              "      <td>0</td>\n",
              "      <td>98074</td>\n",
              "      <td>47.6168</td>\n",
              "      <td>-122.045</td>\n",
              "      <td>1800</td>\n",
              "      <td>7503</td>\n",
              "    </tr>\n",
              "  </tbody>\n",
              "</table>\n",
              "</div>"
            ],
            "text/plain": [
              "              date     price  bedrooms  ...     long  sqft_living15  sqft_lot15\n",
              "0  20141013T000000  221900.0         3  ... -122.257           1340        5650\n",
              "1  20141209T000000  538000.0         3  ... -122.319           1690        7639\n",
              "2  20150225T000000  180000.0         2  ... -122.233           2720        8062\n",
              "3  20141209T000000  604000.0         4  ... -122.393           1360        5000\n",
              "4  20150218T000000  510000.0         3  ... -122.045           1800        7503\n",
              "\n",
              "[5 rows x 20 columns]"
            ]
          },
          "metadata": {
            "tags": []
          },
          "execution_count": 43
        }
      ]
    },
    {
      "cell_type": "markdown",
      "metadata": {
        "id": "MPIlvn63es8V",
        "colab_type": "text"
      },
      "source": [
        "## Now we convert the date column to datetime format"
      ]
    },
    {
      "cell_type": "code",
      "metadata": {
        "id": "EyhelCknGT4A",
        "colab_type": "code",
        "colab": {}
      },
      "source": [
        "df['date']=pd.to_datetime(df['date'])"
      ],
      "execution_count": 0,
      "outputs": []
    },
    {
      "cell_type": "code",
      "metadata": {
        "id": "TpjUoBwoGnEt",
        "colab_type": "code",
        "outputId": "67acf4e5-a62f-4362-d4bb-1489981c3bf4",
        "colab": {
          "base_uri": "https://localhost:8080/",
          "height": 298
        }
      },
      "source": [
        "df['month']=df['date'].apply(lambda x:x.month)\n",
        "df['year']=df['date'].apply(lambda x:x.year)\n",
        "df.head()"
      ],
      "execution_count": 0,
      "outputs": [
        {
          "output_type": "execute_result",
          "data": {
            "text/html": [
              "<div>\n",
              "<style scoped>\n",
              "    .dataframe tbody tr th:only-of-type {\n",
              "        vertical-align: middle;\n",
              "    }\n",
              "\n",
              "    .dataframe tbody tr th {\n",
              "        vertical-align: top;\n",
              "    }\n",
              "\n",
              "    .dataframe thead th {\n",
              "        text-align: right;\n",
              "    }\n",
              "</style>\n",
              "<table border=\"1\" class=\"dataframe\">\n",
              "  <thead>\n",
              "    <tr style=\"text-align: right;\">\n",
              "      <th></th>\n",
              "      <th>date</th>\n",
              "      <th>price</th>\n",
              "      <th>bedrooms</th>\n",
              "      <th>bathrooms</th>\n",
              "      <th>sqft_living</th>\n",
              "      <th>sqft_lot</th>\n",
              "      <th>floors</th>\n",
              "      <th>waterfront</th>\n",
              "      <th>view</th>\n",
              "      <th>condition</th>\n",
              "      <th>grade</th>\n",
              "      <th>sqft_above</th>\n",
              "      <th>sqft_basement</th>\n",
              "      <th>yr_built</th>\n",
              "      <th>yr_renovated</th>\n",
              "      <th>zipcode</th>\n",
              "      <th>lat</th>\n",
              "      <th>long</th>\n",
              "      <th>sqft_living15</th>\n",
              "      <th>sqft_lot15</th>\n",
              "      <th>month</th>\n",
              "      <th>year</th>\n",
              "    </tr>\n",
              "  </thead>\n",
              "  <tbody>\n",
              "    <tr>\n",
              "      <th>0</th>\n",
              "      <td>2014-10-13</td>\n",
              "      <td>221900.0</td>\n",
              "      <td>3</td>\n",
              "      <td>1.00</td>\n",
              "      <td>1180</td>\n",
              "      <td>5650</td>\n",
              "      <td>1.0</td>\n",
              "      <td>0</td>\n",
              "      <td>0</td>\n",
              "      <td>3</td>\n",
              "      <td>7</td>\n",
              "      <td>1180</td>\n",
              "      <td>0</td>\n",
              "      <td>1955</td>\n",
              "      <td>0</td>\n",
              "      <td>98178</td>\n",
              "      <td>47.5112</td>\n",
              "      <td>-122.257</td>\n",
              "      <td>1340</td>\n",
              "      <td>5650</td>\n",
              "      <td>10</td>\n",
              "      <td>2014</td>\n",
              "    </tr>\n",
              "    <tr>\n",
              "      <th>1</th>\n",
              "      <td>2014-12-09</td>\n",
              "      <td>538000.0</td>\n",
              "      <td>3</td>\n",
              "      <td>2.25</td>\n",
              "      <td>2570</td>\n",
              "      <td>7242</td>\n",
              "      <td>2.0</td>\n",
              "      <td>0</td>\n",
              "      <td>0</td>\n",
              "      <td>3</td>\n",
              "      <td>7</td>\n",
              "      <td>2170</td>\n",
              "      <td>400</td>\n",
              "      <td>1951</td>\n",
              "      <td>1991</td>\n",
              "      <td>98125</td>\n",
              "      <td>47.7210</td>\n",
              "      <td>-122.319</td>\n",
              "      <td>1690</td>\n",
              "      <td>7639</td>\n",
              "      <td>12</td>\n",
              "      <td>2014</td>\n",
              "    </tr>\n",
              "    <tr>\n",
              "      <th>2</th>\n",
              "      <td>2015-02-25</td>\n",
              "      <td>180000.0</td>\n",
              "      <td>2</td>\n",
              "      <td>1.00</td>\n",
              "      <td>770</td>\n",
              "      <td>10000</td>\n",
              "      <td>1.0</td>\n",
              "      <td>0</td>\n",
              "      <td>0</td>\n",
              "      <td>3</td>\n",
              "      <td>6</td>\n",
              "      <td>770</td>\n",
              "      <td>0</td>\n",
              "      <td>1933</td>\n",
              "      <td>0</td>\n",
              "      <td>98028</td>\n",
              "      <td>47.7379</td>\n",
              "      <td>-122.233</td>\n",
              "      <td>2720</td>\n",
              "      <td>8062</td>\n",
              "      <td>2</td>\n",
              "      <td>2015</td>\n",
              "    </tr>\n",
              "    <tr>\n",
              "      <th>3</th>\n",
              "      <td>2014-12-09</td>\n",
              "      <td>604000.0</td>\n",
              "      <td>4</td>\n",
              "      <td>3.00</td>\n",
              "      <td>1960</td>\n",
              "      <td>5000</td>\n",
              "      <td>1.0</td>\n",
              "      <td>0</td>\n",
              "      <td>0</td>\n",
              "      <td>5</td>\n",
              "      <td>7</td>\n",
              "      <td>1050</td>\n",
              "      <td>910</td>\n",
              "      <td>1965</td>\n",
              "      <td>0</td>\n",
              "      <td>98136</td>\n",
              "      <td>47.5208</td>\n",
              "      <td>-122.393</td>\n",
              "      <td>1360</td>\n",
              "      <td>5000</td>\n",
              "      <td>12</td>\n",
              "      <td>2014</td>\n",
              "    </tr>\n",
              "    <tr>\n",
              "      <th>4</th>\n",
              "      <td>2015-02-18</td>\n",
              "      <td>510000.0</td>\n",
              "      <td>3</td>\n",
              "      <td>2.00</td>\n",
              "      <td>1680</td>\n",
              "      <td>8080</td>\n",
              "      <td>1.0</td>\n",
              "      <td>0</td>\n",
              "      <td>0</td>\n",
              "      <td>3</td>\n",
              "      <td>8</td>\n",
              "      <td>1680</td>\n",
              "      <td>0</td>\n",
              "      <td>1987</td>\n",
              "      <td>0</td>\n",
              "      <td>98074</td>\n",
              "      <td>47.6168</td>\n",
              "      <td>-122.045</td>\n",
              "      <td>1800</td>\n",
              "      <td>7503</td>\n",
              "      <td>2</td>\n",
              "      <td>2015</td>\n",
              "    </tr>\n",
              "  </tbody>\n",
              "</table>\n",
              "</div>"
            ],
            "text/plain": [
              "        date     price  bedrooms  ...  sqft_lot15  month  year\n",
              "0 2014-10-13  221900.0         3  ...        5650     10  2014\n",
              "1 2014-12-09  538000.0         3  ...        7639     12  2014\n",
              "2 2015-02-25  180000.0         2  ...        8062      2  2015\n",
              "3 2014-12-09  604000.0         4  ...        5000     12  2014\n",
              "4 2015-02-18  510000.0         3  ...        7503      2  2015\n",
              "\n",
              "[5 rows x 22 columns]"
            ]
          },
          "metadata": {
            "tags": []
          },
          "execution_count": 45
        }
      ]
    },
    {
      "cell_type": "code",
      "metadata": {
        "id": "VnBA16LzHJGt",
        "colab_type": "code",
        "outputId": "e03f2d16-3b7a-4ea6-c729-4a05c32eae4c",
        "colab": {
          "base_uri": "https://localhost:8080/",
          "height": 214
        }
      },
      "source": [
        "df=df.drop('date',axis=1)\n",
        "df.drop('zipcode',axis=1)\n",
        "df.head()"
      ],
      "execution_count": 0,
      "outputs": [
        {
          "output_type": "execute_result",
          "data": {
            "text/html": [
              "<div>\n",
              "<style scoped>\n",
              "    .dataframe tbody tr th:only-of-type {\n",
              "        vertical-align: middle;\n",
              "    }\n",
              "\n",
              "    .dataframe tbody tr th {\n",
              "        vertical-align: top;\n",
              "    }\n",
              "\n",
              "    .dataframe thead th {\n",
              "        text-align: right;\n",
              "    }\n",
              "</style>\n",
              "<table border=\"1\" class=\"dataframe\">\n",
              "  <thead>\n",
              "    <tr style=\"text-align: right;\">\n",
              "      <th></th>\n",
              "      <th>price</th>\n",
              "      <th>bedrooms</th>\n",
              "      <th>bathrooms</th>\n",
              "      <th>sqft_living</th>\n",
              "      <th>sqft_lot</th>\n",
              "      <th>floors</th>\n",
              "      <th>waterfront</th>\n",
              "      <th>view</th>\n",
              "      <th>condition</th>\n",
              "      <th>grade</th>\n",
              "      <th>sqft_above</th>\n",
              "      <th>sqft_basement</th>\n",
              "      <th>yr_built</th>\n",
              "      <th>yr_renovated</th>\n",
              "      <th>zipcode</th>\n",
              "      <th>lat</th>\n",
              "      <th>long</th>\n",
              "      <th>sqft_living15</th>\n",
              "      <th>sqft_lot15</th>\n",
              "      <th>month</th>\n",
              "      <th>year</th>\n",
              "    </tr>\n",
              "  </thead>\n",
              "  <tbody>\n",
              "    <tr>\n",
              "      <th>0</th>\n",
              "      <td>221900.0</td>\n",
              "      <td>3</td>\n",
              "      <td>1.00</td>\n",
              "      <td>1180</td>\n",
              "      <td>5650</td>\n",
              "      <td>1.0</td>\n",
              "      <td>0</td>\n",
              "      <td>0</td>\n",
              "      <td>3</td>\n",
              "      <td>7</td>\n",
              "      <td>1180</td>\n",
              "      <td>0</td>\n",
              "      <td>1955</td>\n",
              "      <td>0</td>\n",
              "      <td>98178</td>\n",
              "      <td>47.5112</td>\n",
              "      <td>-122.257</td>\n",
              "      <td>1340</td>\n",
              "      <td>5650</td>\n",
              "      <td>10</td>\n",
              "      <td>2014</td>\n",
              "    </tr>\n",
              "    <tr>\n",
              "      <th>1</th>\n",
              "      <td>538000.0</td>\n",
              "      <td>3</td>\n",
              "      <td>2.25</td>\n",
              "      <td>2570</td>\n",
              "      <td>7242</td>\n",
              "      <td>2.0</td>\n",
              "      <td>0</td>\n",
              "      <td>0</td>\n",
              "      <td>3</td>\n",
              "      <td>7</td>\n",
              "      <td>2170</td>\n",
              "      <td>400</td>\n",
              "      <td>1951</td>\n",
              "      <td>1991</td>\n",
              "      <td>98125</td>\n",
              "      <td>47.7210</td>\n",
              "      <td>-122.319</td>\n",
              "      <td>1690</td>\n",
              "      <td>7639</td>\n",
              "      <td>12</td>\n",
              "      <td>2014</td>\n",
              "    </tr>\n",
              "    <tr>\n",
              "      <th>2</th>\n",
              "      <td>180000.0</td>\n",
              "      <td>2</td>\n",
              "      <td>1.00</td>\n",
              "      <td>770</td>\n",
              "      <td>10000</td>\n",
              "      <td>1.0</td>\n",
              "      <td>0</td>\n",
              "      <td>0</td>\n",
              "      <td>3</td>\n",
              "      <td>6</td>\n",
              "      <td>770</td>\n",
              "      <td>0</td>\n",
              "      <td>1933</td>\n",
              "      <td>0</td>\n",
              "      <td>98028</td>\n",
              "      <td>47.7379</td>\n",
              "      <td>-122.233</td>\n",
              "      <td>2720</td>\n",
              "      <td>8062</td>\n",
              "      <td>2</td>\n",
              "      <td>2015</td>\n",
              "    </tr>\n",
              "    <tr>\n",
              "      <th>3</th>\n",
              "      <td>604000.0</td>\n",
              "      <td>4</td>\n",
              "      <td>3.00</td>\n",
              "      <td>1960</td>\n",
              "      <td>5000</td>\n",
              "      <td>1.0</td>\n",
              "      <td>0</td>\n",
              "      <td>0</td>\n",
              "      <td>5</td>\n",
              "      <td>7</td>\n",
              "      <td>1050</td>\n",
              "      <td>910</td>\n",
              "      <td>1965</td>\n",
              "      <td>0</td>\n",
              "      <td>98136</td>\n",
              "      <td>47.5208</td>\n",
              "      <td>-122.393</td>\n",
              "      <td>1360</td>\n",
              "      <td>5000</td>\n",
              "      <td>12</td>\n",
              "      <td>2014</td>\n",
              "    </tr>\n",
              "    <tr>\n",
              "      <th>4</th>\n",
              "      <td>510000.0</td>\n",
              "      <td>3</td>\n",
              "      <td>2.00</td>\n",
              "      <td>1680</td>\n",
              "      <td>8080</td>\n",
              "      <td>1.0</td>\n",
              "      <td>0</td>\n",
              "      <td>0</td>\n",
              "      <td>3</td>\n",
              "      <td>8</td>\n",
              "      <td>1680</td>\n",
              "      <td>0</td>\n",
              "      <td>1987</td>\n",
              "      <td>0</td>\n",
              "      <td>98074</td>\n",
              "      <td>47.6168</td>\n",
              "      <td>-122.045</td>\n",
              "      <td>1800</td>\n",
              "      <td>7503</td>\n",
              "      <td>2</td>\n",
              "      <td>2015</td>\n",
              "    </tr>\n",
              "  </tbody>\n",
              "</table>\n",
              "</div>"
            ],
            "text/plain": [
              "      price  bedrooms  bathrooms  ...  sqft_lot15  month  year\n",
              "0  221900.0         3       1.00  ...        5650     10  2014\n",
              "1  538000.0         3       2.25  ...        7639     12  2014\n",
              "2  180000.0         2       1.00  ...        8062      2  2015\n",
              "3  604000.0         4       3.00  ...        5000     12  2014\n",
              "4  510000.0         3       2.00  ...        7503      2  2015\n",
              "\n",
              "[5 rows x 21 columns]"
            ]
          },
          "metadata": {
            "tags": []
          },
          "execution_count": 46
        }
      ]
    },
    {
      "cell_type": "markdown",
      "metadata": {
        "id": "MZ2Yv8Bwe2ap",
        "colab_type": "text"
      },
      "source": [
        "## Now we scale and normalize the data using scikitlearn library"
      ]
    },
    {
      "cell_type": "code",
      "metadata": {
        "id": "UNt7XTN9M82h",
        "colab_type": "code",
        "colab": {}
      },
      "source": [
        "from sklearn.preprocessing import MinMaxScaler\n",
        "scaler = MinMaxScaler() \n",
        "df = scaler.fit_transform(df)"
      ],
      "execution_count": 0,
      "outputs": []
    },
    {
      "cell_type": "markdown",
      "metadata": {
        "id": "aV0U2VXUe_ag",
        "colab_type": "text"
      },
      "source": [
        "## Now we split the data into train-test parts"
      ]
    },
    {
      "cell_type": "code",
      "metadata": {
        "id": "MOz81FutHg9F",
        "colab_type": "code",
        "colab": {}
      },
      "source": [
        "x=df.drop('price',axis=1)\n",
        "y=df['price']\n",
        "from sklearn.model_selection import train_test_split\n",
        "xTrain, xTest, yTrain, yTest = train_test_split(x, y, test_size = 0.2, random_state = 0)"
      ],
      "execution_count": 0,
      "outputs": []
    },
    {
      "cell_type": "code",
      "metadata": {
        "id": "U_0CibO4MW1E",
        "colab_type": "code",
        "outputId": "c5724dfb-b963-4e83-fbcb-c683397e1d1f",
        "colab": {
          "base_uri": "https://localhost:8080/",
          "height": 35
        }
      },
      "source": [
        "xTrain.shape"
      ],
      "execution_count": 0,
      "outputs": [
        {
          "output_type": "execute_result",
          "data": {
            "text/plain": [
              "(17290, 20)"
            ]
          },
          "metadata": {
            "tags": []
          },
          "execution_count": 52
        }
      ]
    },
    {
      "cell_type": "markdown",
      "metadata": {
        "id": "NVJyLakHfHHO",
        "colab_type": "text"
      },
      "source": [
        "## Now we us tensorflow framework to create nural network model"
      ]
    },
    {
      "cell_type": "code",
      "metadata": {
        "id": "c8XMJyg0MjgG",
        "colab_type": "code",
        "colab": {}
      },
      "source": [
        "import tensorflow as tf\n",
        "\n",
        "from tensorflow import keras\n",
        "from tensorflow.keras import layers"
      ],
      "execution_count": 0,
      "outputs": []
    },
    {
      "cell_type": "code",
      "metadata": {
        "id": "-BUzGn23Nryy",
        "colab_type": "code",
        "colab": {}
      },
      "source": [
        "def model():\n",
        "  model = keras.Sequential([\n",
        "    layers.Dense(32, activation='relu', input_shape=[len(xTrain.keys())]),\n",
        "    layers.Dense(32, activation='relu'),\n",
        "    layers.Dense(32, activation='relu'),\n",
        "    layers.Dense(32, activation='relu'),\n",
        "    layers.Dense(1)\n",
        "  ])\n",
        "\n",
        "  optimizer = tf.keras.optimizers.RMSprop(0.001)\n",
        "\n",
        "  model.compile(loss='mse',\n",
        "                optimizer='adam',\n",
        "                metrics=['mae', 'mse'])\n",
        "  return model"
      ],
      "execution_count": 0,
      "outputs": []
    },
    {
      "cell_type": "code",
      "metadata": {
        "id": "97c3M6YvOIHS",
        "colab_type": "code",
        "colab": {}
      },
      "source": [
        "model=model()"
      ],
      "execution_count": 0,
      "outputs": []
    },
    {
      "cell_type": "code",
      "metadata": {
        "id": "QTuWp9p2OKJH",
        "colab_type": "code",
        "outputId": "46391ef0-1de7-42e8-f0d1-3ffc4f3f659a",
        "colab": {
          "base_uri": "https://localhost:8080/",
          "height": 337
        }
      },
      "source": [
        "model.summary()"
      ],
      "execution_count": 0,
      "outputs": [
        {
          "output_type": "stream",
          "text": [
            "Model: \"sequential_2\"\n",
            "_________________________________________________________________\n",
            "Layer (type)                 Output Shape              Param #   \n",
            "=================================================================\n",
            "dense_6 (Dense)              (None, 32)                672       \n",
            "_________________________________________________________________\n",
            "dense_7 (Dense)              (None, 32)                1056      \n",
            "_________________________________________________________________\n",
            "dense_8 (Dense)              (None, 32)                1056      \n",
            "_________________________________________________________________\n",
            "dense_9 (Dense)              (None, 32)                1056      \n",
            "_________________________________________________________________\n",
            "dense_10 (Dense)             (None, 1)                 33        \n",
            "=================================================================\n",
            "Total params: 3,873\n",
            "Trainable params: 3,873\n",
            "Non-trainable params: 0\n",
            "_________________________________________________________________\n"
          ],
          "name": "stdout"
        }
      ]
    },
    {
      "cell_type": "code",
      "metadata": {
        "id": "5Buvn0LtOTjC",
        "colab_type": "code",
        "outputId": "5c71fb0c-29df-4d63-a932-fd3e21a96762",
        "colab": {
          "base_uri": "https://localhost:8080/",
          "height": 1000
        }
      },
      "source": [
        "EPOCHS = 400\n",
        "\n",
        "history = model.fit(\n",
        "  xTrain, yTrain,\n",
        "  epochs=EPOCHS, validation_split = 0.2, verbose=2,\n",
        "  batch_size=256)"
      ],
      "execution_count": 0,
      "outputs": [
        {
          "output_type": "stream",
          "text": [
            "Epoch 1/400\n",
            "55/55 - 0s - loss: 407170973696.0000 - mae: 513369.0000 - mse: 407170973696.0000 - val_loss: 275891290112.0000 - val_mae: 395025.7812 - val_mse: 275891290112.0000\n",
            "Epoch 2/400\n",
            "55/55 - 0s - loss: 176309288960.0000 - mae: 264887.2500 - mse: 176309288960.0000 - val_loss: 122537631744.0000 - val_mae: 220625.9219 - val_mse: 122537631744.0000\n",
            "Epoch 3/400\n",
            "55/55 - 0s - loss: 140108431360.0000 - mae: 233214.0625 - mse: 140108431360.0000 - val_loss: 117840814080.0000 - val_mae: 224749.5000 - val_mse: 117840814080.0000\n",
            "Epoch 4/400\n",
            "55/55 - 0s - loss: 137476718592.0000 - mae: 232329.2656 - mse: 137476718592.0000 - val_loss: 116380688384.0000 - val_mae: 228739.9375 - val_mse: 116380688384.0000\n",
            "Epoch 5/400\n",
            "55/55 - 0s - loss: 135566934016.0000 - mae: 230620.5625 - mse: 135566934016.0000 - val_loss: 114446680064.0000 - val_mae: 227401.8438 - val_mse: 114446680064.0000\n",
            "Epoch 6/400\n",
            "55/55 - 0s - loss: 133092065280.0000 - mae: 229781.5312 - mse: 133092065280.0000 - val_loss: 112017244160.0000 - val_mae: 224881.7656 - val_mse: 112017244160.0000\n",
            "Epoch 7/400\n",
            "55/55 - 0s - loss: 130236563456.0000 - mae: 227183.3438 - mse: 130236563456.0000 - val_loss: 108384116736.0000 - val_mae: 218261.8750 - val_mse: 108384116736.0000\n",
            "Epoch 8/400\n",
            "55/55 - 0s - loss: 125150093312.0000 - mae: 221825.5156 - mse: 125150093312.0000 - val_loss: 103711997952.0000 - val_mae: 218722.6094 - val_mse: 103711997952.0000\n",
            "Epoch 9/400\n",
            "55/55 - 0s - loss: 117254348800.0000 - mae: 216442.3906 - mse: 117254348800.0000 - val_loss: 93289381888.0000 - val_mae: 202977.7188 - val_mse: 93289381888.0000\n",
            "Epoch 10/400\n",
            "55/55 - 0s - loss: 101026611200.0000 - mae: 196287.0938 - mse: 101026611200.0000 - val_loss: 76744785920.0000 - val_mae: 172269.8750 - val_mse: 76744785920.0000\n",
            "Epoch 11/400\n",
            "55/55 - 0s - loss: 80952877056.0000 - mae: 177034.5469 - mse: 80952877056.0000 - val_loss: 61810429952.0000 - val_mae: 160077.5156 - val_mse: 61810429952.0000\n",
            "Epoch 12/400\n",
            "55/55 - 0s - loss: 67577397248.0000 - mae: 165462.1562 - mse: 67577397248.0000 - val_loss: 60241035264.0000 - val_mae: 172916.8438 - val_mse: 60241035264.0000\n",
            "Epoch 13/400\n",
            "55/55 - 0s - loss: 63472496640.0000 - mae: 164242.7500 - mse: 63472496640.0000 - val_loss: 55589785600.0000 - val_mae: 156430.3750 - val_mse: 55589785600.0000\n",
            "Epoch 14/400\n",
            "55/55 - 0s - loss: 61956493312.0000 - mae: 164035.0156 - mse: 61956493312.0000 - val_loss: 55582896128.0000 - val_mae: 160730.5781 - val_mse: 55582896128.0000\n",
            "Epoch 15/400\n",
            "55/55 - 0s - loss: 61413113856.0000 - mae: 163399.9062 - mse: 61413113856.0000 - val_loss: 58816745472.0000 - val_mae: 159221.1875 - val_mse: 58816745472.0000\n",
            "Epoch 16/400\n",
            "55/55 - 0s - loss: 61392023552.0000 - mae: 162454.7969 - mse: 61392023552.0000 - val_loss: 54027034624.0000 - val_mae: 152376.1875 - val_mse: 54027034624.0000\n",
            "Epoch 17/400\n",
            "55/55 - 0s - loss: 59490373632.0000 - mae: 160443.8594 - mse: 59490373632.0000 - val_loss: 53601697792.0000 - val_mae: 155189.2344 - val_mse: 53601697792.0000\n",
            "Epoch 18/400\n",
            "55/55 - 0s - loss: 58912231424.0000 - mae: 159397.7500 - mse: 58912231424.0000 - val_loss: 53445431296.0000 - val_mae: 155368.4844 - val_mse: 53445431296.0000\n",
            "Epoch 19/400\n",
            "55/55 - 0s - loss: 59002875904.0000 - mae: 160181.1719 - mse: 59002875904.0000 - val_loss: 55144370176.0000 - val_mae: 153889.6875 - val_mse: 55144370176.0000\n",
            "Epoch 20/400\n",
            "55/55 - 0s - loss: 58813669376.0000 - mae: 160106.0000 - mse: 58813669376.0000 - val_loss: 56420020224.0000 - val_mae: 153446.0156 - val_mse: 56420020224.0000\n",
            "Epoch 21/400\n",
            "55/55 - 0s - loss: 59220742144.0000 - mae: 159821.5469 - mse: 59220742144.0000 - val_loss: 56111214592.0000 - val_mae: 164500.3281 - val_mse: 56111214592.0000\n",
            "Epoch 22/400\n",
            "55/55 - 0s - loss: 58318884864.0000 - mae: 159562.7188 - mse: 58318884864.0000 - val_loss: 53738573824.0000 - val_mae: 151748.1875 - val_mse: 53738573824.0000\n",
            "Epoch 23/400\n",
            "55/55 - 0s - loss: 57542291456.0000 - mae: 158628.0156 - mse: 57542291456.0000 - val_loss: 53765537792.0000 - val_mae: 152535.2500 - val_mse: 53765537792.0000\n",
            "Epoch 24/400\n",
            "55/55 - 0s - loss: 57508900864.0000 - mae: 158356.3438 - mse: 57508900864.0000 - val_loss: 53386567680.0000 - val_mae: 153312.3281 - val_mse: 53386567680.0000\n",
            "Epoch 25/400\n",
            "55/55 - 0s - loss: 57223946240.0000 - mae: 157986.9219 - mse: 57223946240.0000 - val_loss: 53211627520.0000 - val_mae: 153787.1094 - val_mse: 53211627520.0000\n",
            "Epoch 26/400\n",
            "55/55 - 0s - loss: 57186451456.0000 - mae: 157967.9219 - mse: 57186451456.0000 - val_loss: 53094309888.0000 - val_mae: 152153.8750 - val_mse: 53094309888.0000\n",
            "Epoch 27/400\n",
            "55/55 - 0s - loss: 57745354752.0000 - mae: 158338.7812 - mse: 57745354752.0000 - val_loss: 53651652608.0000 - val_mae: 152722.8906 - val_mse: 53651652608.0000\n",
            "Epoch 28/400\n",
            "55/55 - 0s - loss: 57219895296.0000 - mae: 158072.5156 - mse: 57219895296.0000 - val_loss: 54066491392.0000 - val_mae: 151550.5156 - val_mse: 54066491392.0000\n",
            "Epoch 29/400\n",
            "55/55 - 0s - loss: 57230749696.0000 - mae: 157740.9531 - mse: 57230749696.0000 - val_loss: 53954916352.0000 - val_mae: 156533.9062 - val_mse: 53954916352.0000\n",
            "Epoch 30/400\n",
            "55/55 - 0s - loss: 57257144320.0000 - mae: 158344.3906 - mse: 57257144320.0000 - val_loss: 53146005504.0000 - val_mae: 153664.4688 - val_mse: 53146005504.0000\n",
            "Epoch 31/400\n",
            "55/55 - 0s - loss: 56685498368.0000 - mae: 157179.5000 - mse: 56685498368.0000 - val_loss: 53019938816.0000 - val_mae: 152203.8594 - val_mse: 53019938816.0000\n",
            "Epoch 32/400\n",
            "55/55 - 0s - loss: 56723529728.0000 - mae: 157415.6094 - mse: 56723529728.0000 - val_loss: 56163987456.0000 - val_mae: 152421.6250 - val_mse: 56163987456.0000\n",
            "Epoch 33/400\n",
            "55/55 - 0s - loss: 58125549568.0000 - mae: 158803.0312 - mse: 58125549568.0000 - val_loss: 56563290112.0000 - val_mae: 164529.6719 - val_mse: 56563290112.0000\n",
            "Epoch 34/400\n",
            "55/55 - 0s - loss: 57673646080.0000 - mae: 159581.6875 - mse: 57673646080.0000 - val_loss: 53029830656.0000 - val_mae: 151196.5938 - val_mse: 53029830656.0000\n",
            "Epoch 35/400\n",
            "55/55 - 0s - loss: 58563465216.0000 - mae: 159440.3750 - mse: 58563465216.0000 - val_loss: 54266068992.0000 - val_mae: 151763.4219 - val_mse: 54266068992.0000\n",
            "Epoch 36/400\n",
            "55/55 - 0s - loss: 56819101696.0000 - mae: 157291.0625 - mse: 56819101696.0000 - val_loss: 53545857024.0000 - val_mae: 155535.2188 - val_mse: 53545857024.0000\n",
            "Epoch 37/400\n",
            "55/55 - 0s - loss: 56837480448.0000 - mae: 157757.2031 - mse: 56837480448.0000 - val_loss: 53141848064.0000 - val_mae: 151323.0156 - val_mse: 53141848064.0000\n",
            "Epoch 38/400\n",
            "55/55 - 0s - loss: 56958013440.0000 - mae: 157804.9531 - mse: 56958013440.0000 - val_loss: 54515224576.0000 - val_mae: 159265.7344 - val_mse: 54515224576.0000\n",
            "Epoch 39/400\n",
            "55/55 - 0s - loss: 56463585280.0000 - mae: 157317.5781 - mse: 56463585280.0000 - val_loss: 52905472000.0000 - val_mae: 150643.8750 - val_mse: 52905472000.0000\n",
            "Epoch 40/400\n",
            "55/55 - 0s - loss: 56596090880.0000 - mae: 156925.5625 - mse: 56596090880.0000 - val_loss: 52872896512.0000 - val_mae: 152224.8125 - val_mse: 52872896512.0000\n",
            "Epoch 41/400\n",
            "55/55 - 0s - loss: 56301187072.0000 - mae: 157072.4844 - mse: 56301187072.0000 - val_loss: 53221744640.0000 - val_mae: 149863.9219 - val_mse: 53221744640.0000\n",
            "Epoch 42/400\n",
            "55/55 - 0s - loss: 56539746304.0000 - mae: 157187.7500 - mse: 56539746304.0000 - val_loss: 52715491328.0000 - val_mae: 150980.7031 - val_mse: 52715491328.0000\n",
            "Epoch 43/400\n",
            "55/55 - 0s - loss: 56071192576.0000 - mae: 156358.5938 - mse: 56071192576.0000 - val_loss: 53986471936.0000 - val_mae: 150117.2344 - val_mse: 53986471936.0000\n",
            "Epoch 44/400\n",
            "55/55 - 0s - loss: 56952676352.0000 - mae: 157610.3125 - mse: 56952676352.0000 - val_loss: 54890102784.0000 - val_mae: 158803.3281 - val_mse: 54890102784.0000\n",
            "Epoch 45/400\n",
            "55/55 - 0s - loss: 56468480000.0000 - mae: 156917.2812 - mse: 56468480000.0000 - val_loss: 52995907584.0000 - val_mae: 150379.0938 - val_mse: 52995907584.0000\n",
            "Epoch 46/400\n",
            "55/55 - 0s - loss: 56026300416.0000 - mae: 156499.3750 - mse: 56026300416.0000 - val_loss: 53678764032.0000 - val_mae: 154973.5156 - val_mse: 53678764032.0000\n",
            "Epoch 47/400\n",
            "55/55 - 0s - loss: 56171732992.0000 - mae: 156739.4062 - mse: 56171732992.0000 - val_loss: 52939849728.0000 - val_mae: 150166.9062 - val_mse: 52939849728.0000\n",
            "Epoch 48/400\n",
            "55/55 - 0s - loss: 56320737280.0000 - mae: 156768.5938 - mse: 56320737280.0000 - val_loss: 52774449152.0000 - val_mae: 150887.0469 - val_mse: 52774449152.0000\n",
            "Epoch 49/400\n",
            "55/55 - 0s - loss: 55769391104.0000 - mae: 156243.1562 - mse: 55769391104.0000 - val_loss: 52670201856.0000 - val_mae: 150325.1562 - val_mse: 52670201856.0000\n",
            "Epoch 50/400\n",
            "55/55 - 0s - loss: 55837028352.0000 - mae: 156059.5625 - mse: 55837028352.0000 - val_loss: 52831399936.0000 - val_mae: 151388.4844 - val_mse: 52831399936.0000\n",
            "Epoch 51/400\n",
            "55/55 - 0s - loss: 56584048640.0000 - mae: 157491.8281 - mse: 56584048640.0000 - val_loss: 53019025408.0000 - val_mae: 149377.7188 - val_mse: 53019025408.0000\n",
            "Epoch 52/400\n",
            "55/55 - 0s - loss: 56724209664.0000 - mae: 157194.2031 - mse: 56724209664.0000 - val_loss: 52549652480.0000 - val_mae: 152496.4062 - val_mse: 52549652480.0000\n",
            "Epoch 53/400\n",
            "55/55 - 0s - loss: 56161185792.0000 - mae: 156544.0625 - mse: 56161185792.0000 - val_loss: 53102182400.0000 - val_mae: 152112.9688 - val_mse: 53102182400.0000\n",
            "Epoch 54/400\n",
            "55/55 - 0s - loss: 55847067648.0000 - mae: 156229.7344 - mse: 55847067648.0000 - val_loss: 52867014656.0000 - val_mae: 152433.5312 - val_mse: 52867014656.0000\n",
            "Epoch 55/400\n",
            "55/55 - 0s - loss: 56138395648.0000 - mae: 156370.0469 - mse: 56138395648.0000 - val_loss: 53683097600.0000 - val_mae: 152764.6562 - val_mse: 53683097600.0000\n",
            "Epoch 56/400\n",
            "55/55 - 0s - loss: 55946829824.0000 - mae: 156239.1875 - mse: 55946829824.0000 - val_loss: 53038759936.0000 - val_mae: 154161.7188 - val_mse: 53038759936.0000\n",
            "Epoch 57/400\n",
            "55/55 - 0s - loss: 55935475712.0000 - mae: 156236.2344 - mse: 55935475712.0000 - val_loss: 53231624192.0000 - val_mae: 154956.2500 - val_mse: 53231624192.0000\n",
            "Epoch 58/400\n",
            "55/55 - 0s - loss: 55834816512.0000 - mae: 157324.3281 - mse: 55834816512.0000 - val_loss: 53083643904.0000 - val_mae: 150416.9375 - val_mse: 53083643904.0000\n",
            "Epoch 59/400\n",
            "55/55 - 0s - loss: 55440396288.0000 - mae: 155684.4219 - mse: 55440396288.0000 - val_loss: 55173402624.0000 - val_mae: 149047.2500 - val_mse: 55173402624.0000\n",
            "Epoch 60/400\n",
            "55/55 - 0s - loss: 60371894272.0000 - mae: 162161.6250 - mse: 60371894272.0000 - val_loss: 53118148608.0000 - val_mae: 155882.7500 - val_mse: 53118148608.0000\n",
            "Epoch 61/400\n",
            "55/55 - 0s - loss: 56282533888.0000 - mae: 157876.5000 - mse: 56282533888.0000 - val_loss: 52937867264.0000 - val_mae: 151244.0625 - val_mse: 52937867264.0000\n",
            "Epoch 62/400\n",
            "55/55 - 0s - loss: 55595032576.0000 - mae: 156427.9062 - mse: 55595032576.0000 - val_loss: 52719947776.0000 - val_mae: 149591.2812 - val_mse: 52719947776.0000\n",
            "Epoch 63/400\n",
            "55/55 - 0s - loss: 55947386880.0000 - mae: 156544.4844 - mse: 55947386880.0000 - val_loss: 54621941760.0000 - val_mae: 160640.5156 - val_mse: 54621941760.0000\n",
            "Epoch 64/400\n",
            "55/55 - 0s - loss: 56238505984.0000 - mae: 156971.1094 - mse: 56238505984.0000 - val_loss: 52252082176.0000 - val_mae: 151383.6094 - val_mse: 52252082176.0000\n",
            "Epoch 65/400\n",
            "55/55 - 0s - loss: 55349264384.0000 - mae: 155776.8906 - mse: 55349264384.0000 - val_loss: 54400323584.0000 - val_mae: 160113.3125 - val_mse: 54400323584.0000\n",
            "Epoch 66/400\n",
            "55/55 - 0s - loss: 55775965184.0000 - mae: 155903.1094 - mse: 55775965184.0000 - val_loss: 52628287488.0000 - val_mae: 152820.0938 - val_mse: 52628287488.0000\n",
            "Epoch 67/400\n",
            "55/55 - 0s - loss: 55140683776.0000 - mae: 155296.5156 - mse: 55140683776.0000 - val_loss: 52896567296.0000 - val_mae: 154670.2031 - val_mse: 52896567296.0000\n",
            "Epoch 68/400\n",
            "55/55 - 0s - loss: 55466196992.0000 - mae: 156191.3594 - mse: 55466196992.0000 - val_loss: 52526936064.0000 - val_mae: 152004.0469 - val_mse: 52526936064.0000\n",
            "Epoch 69/400\n",
            "55/55 - 0s - loss: 55375060992.0000 - mae: 155404.7812 - mse: 55375060992.0000 - val_loss: 52440694784.0000 - val_mae: 149385.2656 - val_mse: 52440694784.0000\n",
            "Epoch 70/400\n",
            "55/55 - 0s - loss: 55924822016.0000 - mae: 156417.2031 - mse: 55924822016.0000 - val_loss: 52322779136.0000 - val_mae: 151821.5000 - val_mse: 52322779136.0000\n",
            "Epoch 71/400\n",
            "55/55 - 0s - loss: 55337054208.0000 - mae: 156210.6250 - mse: 55337054208.0000 - val_loss: 52694237184.0000 - val_mae: 148695.0000 - val_mse: 52694237184.0000\n",
            "Epoch 72/400\n",
            "55/55 - 0s - loss: 55677001728.0000 - mae: 155882.7031 - mse: 55677001728.0000 - val_loss: 52370157568.0000 - val_mae: 151231.1719 - val_mse: 52370157568.0000\n",
            "Epoch 73/400\n",
            "55/55 - 0s - loss: 54979829760.0000 - mae: 155312.8125 - mse: 54979829760.0000 - val_loss: 52962799616.0000 - val_mae: 152235.3438 - val_mse: 52962799616.0000\n",
            "Epoch 74/400\n",
            "55/55 - 0s - loss: 55291908096.0000 - mae: 156059.8125 - mse: 55291908096.0000 - val_loss: 52322566144.0000 - val_mae: 149438.8906 - val_mse: 52322566144.0000\n",
            "Epoch 75/400\n",
            "55/55 - 0s - loss: 56355954688.0000 - mae: 156484.9219 - mse: 56355954688.0000 - val_loss: 52797100032.0000 - val_mae: 148579.0000 - val_mse: 52797100032.0000\n",
            "Epoch 76/400\n",
            "55/55 - 0s - loss: 54902718464.0000 - mae: 154857.3594 - mse: 54902718464.0000 - val_loss: 53003464704.0000 - val_mae: 154535.7031 - val_mse: 53003464704.0000\n",
            "Epoch 77/400\n",
            "55/55 - 0s - loss: 55079604224.0000 - mae: 156496.3906 - mse: 55079604224.0000 - val_loss: 52600770560.0000 - val_mae: 148417.6094 - val_mse: 52600770560.0000\n",
            "Epoch 78/400\n",
            "55/55 - 0s - loss: 55120850944.0000 - mae: 155798.5000 - mse: 55120850944.0000 - val_loss: 52222160896.0000 - val_mae: 150856.1406 - val_mse: 52222160896.0000\n",
            "Epoch 79/400\n",
            "55/55 - 0s - loss: 55494533120.0000 - mae: 156312.3125 - mse: 55494533120.0000 - val_loss: 54169944064.0000 - val_mae: 148597.9531 - val_mse: 54169944064.0000\n",
            "Epoch 80/400\n",
            "55/55 - 0s - loss: 55405342720.0000 - mae: 155876.4375 - mse: 55405342720.0000 - val_loss: 53324443648.0000 - val_mae: 154915.2500 - val_mse: 53324443648.0000\n",
            "Epoch 81/400\n",
            "55/55 - 0s - loss: 55396683776.0000 - mae: 156831.7969 - mse: 55396683776.0000 - val_loss: 52802113536.0000 - val_mae: 151954.0312 - val_mse: 52802113536.0000\n",
            "Epoch 82/400\n",
            "55/55 - 0s - loss: 54814498816.0000 - mae: 155233.0781 - mse: 54814498816.0000 - val_loss: 52449632256.0000 - val_mae: 151290.5781 - val_mse: 52449632256.0000\n",
            "Epoch 83/400\n",
            "55/55 - 0s - loss: 54876880896.0000 - mae: 155163.2656 - mse: 54876880896.0000 - val_loss: 54716518400.0000 - val_mae: 159199.3125 - val_mse: 54716518400.0000\n",
            "Epoch 84/400\n",
            "55/55 - 0s - loss: 55196061696.0000 - mae: 155572.8438 - mse: 55196061696.0000 - val_loss: 52308983808.0000 - val_mae: 150986.8125 - val_mse: 52308983808.0000\n",
            "Epoch 85/400\n",
            "55/55 - 0s - loss: 55145263104.0000 - mae: 155750.8125 - mse: 55145263104.0000 - val_loss: 52761366528.0000 - val_mae: 149112.7344 - val_mse: 52761366528.0000\n",
            "Epoch 86/400\n",
            "55/55 - 0s - loss: 54779785216.0000 - mae: 155507.3750 - mse: 54779785216.0000 - val_loss: 54234591232.0000 - val_mae: 148049.9688 - val_mse: 54234591232.0000\n",
            "Epoch 87/400\n",
            "55/55 - 0s - loss: 55347011584.0000 - mae: 155829.1875 - mse: 55347011584.0000 - val_loss: 53379350528.0000 - val_mae: 155682.2188 - val_mse: 53379350528.0000\n",
            "Epoch 88/400\n",
            "55/55 - 0s - loss: 55199350784.0000 - mae: 156125.5312 - mse: 55199350784.0000 - val_loss: 54758617088.0000 - val_mae: 149272.5000 - val_mse: 54758617088.0000\n",
            "Epoch 89/400\n",
            "55/55 - 0s - loss: 55916924928.0000 - mae: 156787.4844 - mse: 55916924928.0000 - val_loss: 52161814528.0000 - val_mae: 150279.8281 - val_mse: 52161814528.0000\n",
            "Epoch 90/400\n",
            "55/55 - 0s - loss: 54439780352.0000 - mae: 154472.8594 - mse: 54439780352.0000 - val_loss: 53131337728.0000 - val_mae: 153623.5156 - val_mse: 53131337728.0000\n",
            "Epoch 91/400\n",
            "55/55 - 0s - loss: 55107416064.0000 - mae: 155721.9062 - mse: 55107416064.0000 - val_loss: 52666273792.0000 - val_mae: 151149.9531 - val_mse: 52666273792.0000\n",
            "Epoch 92/400\n",
            "55/55 - 0s - loss: 55133659136.0000 - mae: 155939.4375 - mse: 55133659136.0000 - val_loss: 53422919680.0000 - val_mae: 147877.0156 - val_mse: 53422919680.0000\n",
            "Epoch 93/400\n",
            "55/55 - 0s - loss: 54802939904.0000 - mae: 155580.8125 - mse: 54802939904.0000 - val_loss: 52479270912.0000 - val_mae: 151417.2344 - val_mse: 52479270912.0000\n",
            "Epoch 94/400\n",
            "55/55 - 0s - loss: 54423175168.0000 - mae: 154929.6719 - mse: 54423175168.0000 - val_loss: 52840267776.0000 - val_mae: 148205.2500 - val_mse: 52840267776.0000\n",
            "Epoch 95/400\n",
            "55/55 - 0s - loss: 54751207424.0000 - mae: 154839.0469 - mse: 54751207424.0000 - val_loss: 53012475904.0000 - val_mae: 148246.1562 - val_mse: 53012475904.0000\n",
            "Epoch 96/400\n",
            "55/55 - 0s - loss: 54597419008.0000 - mae: 154536.6406 - mse: 54597419008.0000 - val_loss: 52827402240.0000 - val_mae: 153353.8125 - val_mse: 52827402240.0000\n",
            "Epoch 97/400\n",
            "55/55 - 0s - loss: 54309900288.0000 - mae: 154710.7031 - mse: 54309900288.0000 - val_loss: 52346482688.0000 - val_mae: 149023.3125 - val_mse: 52346482688.0000\n",
            "Epoch 98/400\n",
            "55/55 - 0s - loss: 54680547328.0000 - mae: 155594.9219 - mse: 54680547328.0000 - val_loss: 52756582400.0000 - val_mae: 152915.4844 - val_mse: 52756582400.0000\n",
            "Epoch 99/400\n",
            "55/55 - 0s - loss: 54268039168.0000 - mae: 154177.3438 - mse: 54268039168.0000 - val_loss: 52561240064.0000 - val_mae: 148823.0469 - val_mse: 52561240064.0000\n",
            "Epoch 100/400\n",
            "55/55 - 0s - loss: 56524283904.0000 - mae: 156838.9219 - mse: 56524283904.0000 - val_loss: 52330811392.0000 - val_mae: 151304.4375 - val_mse: 52330811392.0000\n",
            "Epoch 101/400\n",
            "55/55 - 0s - loss: 54430646272.0000 - mae: 154981.4062 - mse: 54430646272.0000 - val_loss: 52205363200.0000 - val_mae: 151188.2344 - val_mse: 52205363200.0000\n",
            "Epoch 102/400\n",
            "55/55 - 0s - loss: 54782685184.0000 - mae: 155782.5156 - mse: 54782685184.0000 - val_loss: 52363747328.0000 - val_mae: 151471.3125 - val_mse: 52363747328.0000\n",
            "Epoch 103/400\n",
            "55/55 - 0s - loss: 54255648768.0000 - mae: 154483.9688 - mse: 54255648768.0000 - val_loss: 52370505728.0000 - val_mae: 151849.4375 - val_mse: 52370505728.0000\n",
            "Epoch 104/400\n",
            "55/55 - 0s - loss: 54316613632.0000 - mae: 154891.5469 - mse: 54316613632.0000 - val_loss: 52750610432.0000 - val_mae: 148270.5781 - val_mse: 52750610432.0000\n",
            "Epoch 105/400\n",
            "55/55 - 0s - loss: 54500392960.0000 - mae: 154772.7500 - mse: 54500392960.0000 - val_loss: 52300787712.0000 - val_mae: 149383.2188 - val_mse: 52300787712.0000\n",
            "Epoch 106/400\n",
            "55/55 - 0s - loss: 54050140160.0000 - mae: 153995.1094 - mse: 54050140160.0000 - val_loss: 52300218368.0000 - val_mae: 152431.5938 - val_mse: 52300218368.0000\n",
            "Epoch 107/400\n",
            "55/55 - 0s - loss: 54356742144.0000 - mae: 154640.6875 - mse: 54356742144.0000 - val_loss: 52273811456.0000 - val_mae: 151360.1719 - val_mse: 52273811456.0000\n",
            "Epoch 108/400\n",
            "55/55 - 0s - loss: 55765340160.0000 - mae: 157334.9844 - mse: 55765340160.0000 - val_loss: 52515823616.0000 - val_mae: 152710.9531 - val_mse: 52515823616.0000\n",
            "Epoch 109/400\n",
            "55/55 - 0s - loss: 54252011520.0000 - mae: 154656.0469 - mse: 54252011520.0000 - val_loss: 52498296832.0000 - val_mae: 151000.5781 - val_mse: 52498296832.0000\n",
            "Epoch 110/400\n",
            "55/55 - 0s - loss: 54559727616.0000 - mae: 155436.4219 - mse: 54559727616.0000 - val_loss: 52896698368.0000 - val_mae: 153415.8750 - val_mse: 52896698368.0000\n",
            "Epoch 111/400\n",
            "55/55 - 0s - loss: 54106972160.0000 - mae: 154374.7031 - mse: 54106972160.0000 - val_loss: 52161880064.0000 - val_mae: 150299.7188 - val_mse: 52161880064.0000\n",
            "Epoch 112/400\n",
            "55/55 - 0s - loss: 54050746368.0000 - mae: 154379.4062 - mse: 54050746368.0000 - val_loss: 52359979008.0000 - val_mae: 149112.2969 - val_mse: 52359979008.0000\n",
            "Epoch 113/400\n",
            "55/55 - 0s - loss: 54698483712.0000 - mae: 154803.2344 - mse: 54698483712.0000 - val_loss: 52299259904.0000 - val_mae: 148165.5469 - val_mse: 52299259904.0000\n",
            "Epoch 114/400\n",
            "55/55 - 0s - loss: 54777532416.0000 - mae: 154319.5625 - mse: 54777532416.0000 - val_loss: 52188581888.0000 - val_mae: 149032.2812 - val_mse: 52188581888.0000\n",
            "Epoch 115/400\n",
            "55/55 - 0s - loss: 54470750208.0000 - mae: 154578.4219 - mse: 54470750208.0000 - val_loss: 53273919488.0000 - val_mae: 153889.0156 - val_mse: 53273919488.0000\n",
            "Epoch 116/400\n",
            "55/55 - 0s - loss: 54024572928.0000 - mae: 154333.2344 - mse: 54024572928.0000 - val_loss: 52271415296.0000 - val_mae: 150740.2812 - val_mse: 52271415296.0000\n",
            "Epoch 117/400\n",
            "55/55 - 0s - loss: 54065676288.0000 - mae: 154499.7344 - mse: 54065676288.0000 - val_loss: 52986556416.0000 - val_mae: 155048.9531 - val_mse: 52986556416.0000\n",
            "Epoch 118/400\n",
            "55/55 - 0s - loss: 54211411968.0000 - mae: 155001.7500 - mse: 54211411968.0000 - val_loss: 52821741568.0000 - val_mae: 148628.2031 - val_mse: 52821741568.0000\n",
            "Epoch 119/400\n",
            "55/55 - 0s - loss: 53924687872.0000 - mae: 153937.4375 - mse: 53924687872.0000 - val_loss: 53071147008.0000 - val_mae: 148453.6719 - val_mse: 53071147008.0000\n",
            "Epoch 120/400\n",
            "55/55 - 0s - loss: 54409117696.0000 - mae: 154614.9531 - mse: 54409117696.0000 - val_loss: 52049158144.0000 - val_mae: 149985.8438 - val_mse: 52049158144.0000\n",
            "Epoch 121/400\n",
            "55/55 - 0s - loss: 54260346880.0000 - mae: 154877.4219 - mse: 54260346880.0000 - val_loss: 52314746880.0000 - val_mae: 149014.6875 - val_mse: 52314746880.0000\n",
            "Epoch 122/400\n",
            "55/55 - 0s - loss: 53885321216.0000 - mae: 154180.0469 - mse: 53885321216.0000 - val_loss: 53575471104.0000 - val_mae: 147666.1562 - val_mse: 53575471104.0000\n",
            "Epoch 123/400\n",
            "55/55 - 0s - loss: 54106038272.0000 - mae: 153730.5000 - mse: 54106038272.0000 - val_loss: 52320067584.0000 - val_mae: 147733.3594 - val_mse: 52320067584.0000\n",
            "Epoch 124/400\n",
            "55/55 - 0s - loss: 54272856064.0000 - mae: 154186.3906 - mse: 54272856064.0000 - val_loss: 52727115776.0000 - val_mae: 148793.6562 - val_mse: 52727115776.0000\n",
            "Epoch 125/400\n",
            "55/55 - 0s - loss: 54029336576.0000 - mae: 154296.2188 - mse: 54029336576.0000 - val_loss: 52212473856.0000 - val_mae: 148633.3438 - val_mse: 52212473856.0000\n",
            "Epoch 126/400\n",
            "55/55 - 0s - loss: 53948059648.0000 - mae: 153949.6562 - mse: 53948059648.0000 - val_loss: 52479819776.0000 - val_mae: 149472.7031 - val_mse: 52479819776.0000\n",
            "Epoch 127/400\n",
            "55/55 - 0s - loss: 54148063232.0000 - mae: 153997.7344 - mse: 54148063232.0000 - val_loss: 52225269760.0000 - val_mae: 151299.9531 - val_mse: 52225269760.0000\n",
            "Epoch 128/400\n",
            "55/55 - 0s - loss: 54345506816.0000 - mae: 154579.5469 - mse: 54345506816.0000 - val_loss: 52380561408.0000 - val_mae: 150220.3281 - val_mse: 52380561408.0000\n",
            "Epoch 129/400\n",
            "55/55 - 0s - loss: 53739290624.0000 - mae: 153725.0312 - mse: 53739290624.0000 - val_loss: 55439491072.0000 - val_mae: 161499.3906 - val_mse: 55439491072.0000\n",
            "Epoch 130/400\n",
            "55/55 - 0s - loss: 54317604864.0000 - mae: 155223.4219 - mse: 54317604864.0000 - val_loss: 52105777152.0000 - val_mae: 149167.8281 - val_mse: 52105777152.0000\n",
            "Epoch 131/400\n",
            "55/55 - 0s - loss: 53756669952.0000 - mae: 153873.9219 - mse: 53756669952.0000 - val_loss: 54157561856.0000 - val_mae: 158401.7656 - val_mse: 54157561856.0000\n",
            "Epoch 132/400\n",
            "55/55 - 0s - loss: 54694010880.0000 - mae: 156287.2188 - mse: 54694010880.0000 - val_loss: 53443244032.0000 - val_mae: 156792.7812 - val_mse: 53443244032.0000\n",
            "Epoch 133/400\n",
            "55/55 - 0s - loss: 54107414528.0000 - mae: 153931.9062 - mse: 54107414528.0000 - val_loss: 52432076800.0000 - val_mae: 152374.0312 - val_mse: 52432076800.0000\n",
            "Epoch 134/400\n",
            "55/55 - 0s - loss: 53578653696.0000 - mae: 153720.0156 - mse: 53578653696.0000 - val_loss: 52305195008.0000 - val_mae: 148555.4844 - val_mse: 52305195008.0000\n",
            "Epoch 135/400\n",
            "55/55 - 0s - loss: 53880737792.0000 - mae: 153751.9844 - mse: 53880737792.0000 - val_loss: 52658077696.0000 - val_mae: 152566.3438 - val_mse: 52658077696.0000\n",
            "Epoch 136/400\n",
            "55/55 - 0s - loss: 53975085056.0000 - mae: 154155.6406 - mse: 53975085056.0000 - val_loss: 51863519232.0000 - val_mae: 149857.0156 - val_mse: 51863519232.0000\n",
            "Epoch 137/400\n",
            "55/55 - 0s - loss: 54095208448.0000 - mae: 153980.0625 - mse: 54095208448.0000 - val_loss: 52188639232.0000 - val_mae: 151583.2656 - val_mse: 52188639232.0000\n",
            "Epoch 138/400\n",
            "55/55 - 0s - loss: 53558550528.0000 - mae: 153673.8594 - mse: 53558550528.0000 - val_loss: 51925639168.0000 - val_mae: 149250.4844 - val_mse: 51925639168.0000\n",
            "Epoch 139/400\n",
            "55/55 - 0s - loss: 54013186048.0000 - mae: 154138.6250 - mse: 54013186048.0000 - val_loss: 52179927040.0000 - val_mae: 148542.2188 - val_mse: 52179927040.0000\n",
            "Epoch 140/400\n",
            "55/55 - 0s - loss: 53713539072.0000 - mae: 153593.7969 - mse: 53713539072.0000 - val_loss: 51927633920.0000 - val_mae: 149384.2969 - val_mse: 51927633920.0000\n",
            "Epoch 141/400\n",
            "55/55 - 0s - loss: 53777862656.0000 - mae: 154039.5625 - mse: 53777862656.0000 - val_loss: 51943002112.0000 - val_mae: 149399.4844 - val_mse: 51943002112.0000\n",
            "Epoch 142/400\n",
            "55/55 - 0s - loss: 53882712064.0000 - mae: 153974.8594 - mse: 53882712064.0000 - val_loss: 52006080512.0000 - val_mae: 147940.2344 - val_mse: 52006080512.0000\n",
            "Epoch 143/400\n",
            "55/55 - 0s - loss: 54100656128.0000 - mae: 154041.2969 - mse: 54100656128.0000 - val_loss: 54443962368.0000 - val_mae: 148424.2344 - val_mse: 54443962368.0000\n",
            "Epoch 144/400\n",
            "55/55 - 0s - loss: 53941301248.0000 - mae: 154197.5938 - mse: 53941301248.0000 - val_loss: 54265643008.0000 - val_mae: 148443.0625 - val_mse: 54265643008.0000\n",
            "Epoch 145/400\n",
            "55/55 - 0s - loss: 54442065920.0000 - mae: 154232.6875 - mse: 54442065920.0000 - val_loss: 56611954688.0000 - val_mae: 163052.8438 - val_mse: 56611954688.0000\n",
            "Epoch 146/400\n",
            "55/55 - 0s - loss: 55335854080.0000 - mae: 157010.4531 - mse: 55335854080.0000 - val_loss: 54029930496.0000 - val_mae: 148086.2500 - val_mse: 54029930496.0000\n",
            "Epoch 147/400\n",
            "55/55 - 0s - loss: 54689480704.0000 - mae: 155175.0312 - mse: 54689480704.0000 - val_loss: 54963810304.0000 - val_mae: 149388.1406 - val_mse: 54963810304.0000\n",
            "Epoch 148/400\n",
            "55/55 - 0s - loss: 56110272512.0000 - mae: 156790.7969 - mse: 56110272512.0000 - val_loss: 52255531008.0000 - val_mae: 150474.6719 - val_mse: 52255531008.0000\n",
            "Epoch 149/400\n",
            "55/55 - 0s - loss: 53512118272.0000 - mae: 153706.4531 - mse: 53512118272.0000 - val_loss: 52482277376.0000 - val_mae: 148455.6406 - val_mse: 52482277376.0000\n",
            "Epoch 150/400\n",
            "55/55 - 0s - loss: 53739458560.0000 - mae: 153680.0469 - mse: 53739458560.0000 - val_loss: 52213841920.0000 - val_mae: 147597.0312 - val_mse: 52213841920.0000\n",
            "Epoch 151/400\n",
            "55/55 - 0s - loss: 53682204672.0000 - mae: 154020.7031 - mse: 53682204672.0000 - val_loss: 52270891008.0000 - val_mae: 149574.4219 - val_mse: 52270891008.0000\n",
            "Epoch 152/400\n",
            "55/55 - 0s - loss: 53897601024.0000 - mae: 154277.1250 - mse: 53897601024.0000 - val_loss: 52732424192.0000 - val_mae: 155063.0000 - val_mse: 52732424192.0000\n",
            "Epoch 153/400\n",
            "55/55 - 0s - loss: 54235541504.0000 - mae: 154345.2969 - mse: 54235541504.0000 - val_loss: 52050657280.0000 - val_mae: 148637.4688 - val_mse: 52050657280.0000\n",
            "Epoch 154/400\n",
            "55/55 - 0s - loss: 54282289152.0000 - mae: 154365.8281 - mse: 54282289152.0000 - val_loss: 52283772928.0000 - val_mae: 150161.4062 - val_mse: 52283772928.0000\n",
            "Epoch 155/400\n",
            "55/55 - 0s - loss: 53539540992.0000 - mae: 153390.5469 - mse: 53539540992.0000 - val_loss: 52693762048.0000 - val_mae: 147592.1562 - val_mse: 52693762048.0000\n",
            "Epoch 156/400\n",
            "55/55 - 0s - loss: 54332116992.0000 - mae: 154342.3594 - mse: 54332116992.0000 - val_loss: 53580296192.0000 - val_mae: 148402.8438 - val_mse: 53580296192.0000\n",
            "Epoch 157/400\n",
            "55/55 - 0s - loss: 53936926720.0000 - mae: 153800.0938 - mse: 53936926720.0000 - val_loss: 52000354304.0000 - val_mae: 148616.8125 - val_mse: 52000354304.0000\n",
            "Epoch 158/400\n",
            "55/55 - 0s - loss: 53568307200.0000 - mae: 153411.6719 - mse: 53568307200.0000 - val_loss: 56570236928.0000 - val_mae: 163337.4219 - val_mse: 56570236928.0000\n",
            "Epoch 159/400\n",
            "55/55 - 0s - loss: 54949900288.0000 - mae: 156374.2812 - mse: 54949900288.0000 - val_loss: 52205228032.0000 - val_mae: 148989.6562 - val_mse: 52205228032.0000\n",
            "Epoch 160/400\n",
            "55/55 - 0s - loss: 53619904512.0000 - mae: 153078.8438 - mse: 53619904512.0000 - val_loss: 52729851904.0000 - val_mae: 154071.0156 - val_mse: 52729851904.0000\n",
            "Epoch 161/400\n",
            "55/55 - 0s - loss: 54048399360.0000 - mae: 154882.4531 - mse: 54048399360.0000 - val_loss: 52310593536.0000 - val_mae: 151715.4844 - val_mse: 52310593536.0000\n",
            "Epoch 162/400\n",
            "55/55 - 0s - loss: 55496867840.0000 - mae: 157520.0312 - mse: 55496867840.0000 - val_loss: 52704870400.0000 - val_mae: 147218.1875 - val_mse: 52704870400.0000\n",
            "Epoch 163/400\n",
            "55/55 - 0s - loss: 53792354304.0000 - mae: 153510.3281 - mse: 53792354304.0000 - val_loss: 52616269824.0000 - val_mae: 147857.7969 - val_mse: 52616269824.0000\n",
            "Epoch 164/400\n",
            "55/55 - 0s - loss: 53805395968.0000 - mae: 153727.9844 - mse: 53805395968.0000 - val_loss: 53093339136.0000 - val_mae: 155777.1875 - val_mse: 53093339136.0000\n",
            "Epoch 165/400\n",
            "55/55 - 0s - loss: 53600890880.0000 - mae: 154136.5312 - mse: 53600890880.0000 - val_loss: 52996546560.0000 - val_mae: 152603.1875 - val_mse: 52996546560.0000\n",
            "Epoch 166/400\n",
            "55/55 - 0s - loss: 53544013824.0000 - mae: 153491.4688 - mse: 53544013824.0000 - val_loss: 54009991168.0000 - val_mae: 158013.4844 - val_mse: 54009991168.0000\n",
            "Epoch 167/400\n",
            "55/55 - 0s - loss: 53379792896.0000 - mae: 153412.4219 - mse: 53379792896.0000 - val_loss: 53178834944.0000 - val_mae: 146716.6250 - val_mse: 53178834944.0000\n",
            "Epoch 168/400\n",
            "55/55 - 0s - loss: 53738500096.0000 - mae: 153742.4688 - mse: 53738500096.0000 - val_loss: 52340670464.0000 - val_mae: 147727.1719 - val_mse: 52340670464.0000\n",
            "Epoch 169/400\n",
            "55/55 - 0s - loss: 54158454784.0000 - mae: 154188.4844 - mse: 54158454784.0000 - val_loss: 52475183104.0000 - val_mae: 151519.1875 - val_mse: 52475183104.0000\n",
            "Epoch 170/400\n",
            "55/55 - 0s - loss: 53604392960.0000 - mae: 153718.5312 - mse: 53604392960.0000 - val_loss: 52153401344.0000 - val_mae: 149730.3438 - val_mse: 52153401344.0000\n",
            "Epoch 171/400\n",
            "55/55 - 0s - loss: 53428047872.0000 - mae: 153433.8906 - mse: 53428047872.0000 - val_loss: 52412817408.0000 - val_mae: 149458.4375 - val_mse: 52412817408.0000\n",
            "Epoch 172/400\n",
            "55/55 - 0s - loss: 53460598784.0000 - mae: 153294.9844 - mse: 53460598784.0000 - val_loss: 52717174784.0000 - val_mae: 153504.5781 - val_mse: 52717174784.0000\n",
            "Epoch 173/400\n",
            "55/55 - 0s - loss: 53324853248.0000 - mae: 152965.2500 - mse: 53324853248.0000 - val_loss: 51945263104.0000 - val_mae: 148926.1562 - val_mse: 51945263104.0000\n",
            "Epoch 174/400\n",
            "55/55 - 0s - loss: 53168816128.0000 - mae: 152672.9844 - mse: 53168816128.0000 - val_loss: 52701863936.0000 - val_mae: 152584.8438 - val_mse: 52701863936.0000\n",
            "Epoch 175/400\n",
            "55/55 - 0s - loss: 53812772864.0000 - mae: 154037.3438 - mse: 53812772864.0000 - val_loss: 52285714432.0000 - val_mae: 152247.8594 - val_mse: 52285714432.0000\n",
            "Epoch 176/400\n",
            "55/55 - 0s - loss: 53595521024.0000 - mae: 153158.6094 - mse: 53595521024.0000 - val_loss: 53047705600.0000 - val_mae: 147295.7344 - val_mse: 53047705600.0000\n",
            "Epoch 177/400\n",
            "55/55 - 0s - loss: 54040612864.0000 - mae: 153912.8125 - mse: 54040612864.0000 - val_loss: 53111402496.0000 - val_mae: 147106.3438 - val_mse: 53111402496.0000\n",
            "Epoch 178/400\n",
            "55/55 - 0s - loss: 53356535808.0000 - mae: 153302.1094 - mse: 53356535808.0000 - val_loss: 52345782272.0000 - val_mae: 150294.6875 - val_mse: 52345782272.0000\n",
            "Epoch 179/400\n",
            "55/55 - 0s - loss: 53261619200.0000 - mae: 152871.9531 - mse: 53261619200.0000 - val_loss: 52248961024.0000 - val_mae: 152411.6250 - val_mse: 52248961024.0000\n",
            "Epoch 180/400\n",
            "55/55 - 0s - loss: 53336719360.0000 - mae: 152986.9219 - mse: 53336719360.0000 - val_loss: 52475879424.0000 - val_mae: 152596.5938 - val_mse: 52475879424.0000\n",
            "Epoch 181/400\n",
            "55/55 - 0s - loss: 53210255360.0000 - mae: 152947.1250 - mse: 53210255360.0000 - val_loss: 51870605312.0000 - val_mae: 149536.9062 - val_mse: 51870605312.0000\n",
            "Epoch 182/400\n",
            "55/55 - 0s - loss: 53148889088.0000 - mae: 152733.2031 - mse: 53148889088.0000 - val_loss: 51897765888.0000 - val_mae: 149026.6875 - val_mse: 51897765888.0000\n",
            "Epoch 183/400\n",
            "55/55 - 0s - loss: 54254440448.0000 - mae: 154267.2500 - mse: 54254440448.0000 - val_loss: 51901128704.0000 - val_mae: 148081.8750 - val_mse: 51901128704.0000\n",
            "Epoch 184/400\n",
            "55/55 - 0s - loss: 53440110592.0000 - mae: 153515.3750 - mse: 53440110592.0000 - val_loss: 51830972416.0000 - val_mae: 149205.5312 - val_mse: 51830972416.0000\n",
            "Epoch 185/400\n",
            "55/55 - 0s - loss: 53602107392.0000 - mae: 153558.8906 - mse: 53602107392.0000 - val_loss: 54366777344.0000 - val_mae: 148078.0625 - val_mse: 54366777344.0000\n",
            "Epoch 186/400\n",
            "55/55 - 0s - loss: 53511634944.0000 - mae: 153384.4375 - mse: 53511634944.0000 - val_loss: 52188704768.0000 - val_mae: 147417.4844 - val_mse: 52188704768.0000\n",
            "Epoch 187/400\n",
            "55/55 - 0s - loss: 53628030976.0000 - mae: 153616.7969 - mse: 53628030976.0000 - val_loss: 54288461824.0000 - val_mae: 157931.7969 - val_mse: 54288461824.0000\n",
            "Epoch 188/400\n",
            "55/55 - 0s - loss: 53325430784.0000 - mae: 153378.3594 - mse: 53325430784.0000 - val_loss: 54011424768.0000 - val_mae: 158156.5781 - val_mse: 54011424768.0000\n",
            "Epoch 189/400\n",
            "55/55 - 0s - loss: 53590888448.0000 - mae: 154280.4375 - mse: 53590888448.0000 - val_loss: 52239937536.0000 - val_mae: 147843.5000 - val_mse: 52239937536.0000\n",
            "Epoch 190/400\n",
            "55/55 - 0s - loss: 54047653888.0000 - mae: 153644.0781 - mse: 54047653888.0000 - val_loss: 51760209920.0000 - val_mae: 150211.9375 - val_mse: 51760209920.0000\n",
            "Epoch 191/400\n",
            "55/55 - 0s - loss: 53650698240.0000 - mae: 153805.6719 - mse: 53650698240.0000 - val_loss: 52927275008.0000 - val_mae: 153289.5781 - val_mse: 52927275008.0000\n",
            "Epoch 192/400\n",
            "55/55 - 0s - loss: 54752366592.0000 - mae: 156230.0000 - mse: 54752366592.0000 - val_loss: 52423569408.0000 - val_mae: 151801.0938 - val_mse: 52423569408.0000\n",
            "Epoch 193/400\n",
            "55/55 - 0s - loss: 53302628352.0000 - mae: 153536.5781 - mse: 53302628352.0000 - val_loss: 52383649792.0000 - val_mae: 152158.9375 - val_mse: 52383649792.0000\n",
            "Epoch 194/400\n",
            "55/55 - 0s - loss: 53470978048.0000 - mae: 153464.9688 - mse: 53470978048.0000 - val_loss: 51869237248.0000 - val_mae: 149351.0781 - val_mse: 51869237248.0000\n",
            "Epoch 195/400\n",
            "55/55 - 0s - loss: 53664776192.0000 - mae: 153163.0000 - mse: 53664776192.0000 - val_loss: 51758149632.0000 - val_mae: 149755.7031 - val_mse: 51758149632.0000\n",
            "Epoch 196/400\n",
            "55/55 - 0s - loss: 53269164032.0000 - mae: 153002.5312 - mse: 53269164032.0000 - val_loss: 53982904320.0000 - val_mae: 157730.0469 - val_mse: 53982904320.0000\n",
            "Epoch 197/400\n",
            "55/55 - 0s - loss: 52831563776.0000 - mae: 152930.2344 - mse: 52831563776.0000 - val_loss: 51879735296.0000 - val_mae: 148271.7812 - val_mse: 51879735296.0000\n",
            "Epoch 198/400\n",
            "55/55 - 0s - loss: 53153796096.0000 - mae: 152777.0781 - mse: 53153796096.0000 - val_loss: 52540424192.0000 - val_mae: 152405.3281 - val_mse: 52540424192.0000\n",
            "Epoch 199/400\n",
            "55/55 - 0s - loss: 53111279616.0000 - mae: 152996.5000 - mse: 53111279616.0000 - val_loss: 52259393536.0000 - val_mae: 150996.5469 - val_mse: 52259393536.0000\n",
            "Epoch 200/400\n",
            "55/55 - 0s - loss: 53028634624.0000 - mae: 152924.8438 - mse: 53028634624.0000 - val_loss: 51958165504.0000 - val_mae: 148782.1406 - val_mse: 51958165504.0000\n",
            "Epoch 201/400\n",
            "55/55 - 0s - loss: 53017939968.0000 - mae: 152748.5781 - mse: 53017939968.0000 - val_loss: 52626796544.0000 - val_mae: 147326.6875 - val_mse: 52626796544.0000\n",
            "Epoch 202/400\n",
            "55/55 - 0s - loss: 53145542656.0000 - mae: 152747.9375 - mse: 53145542656.0000 - val_loss: 52370423808.0000 - val_mae: 151239.0000 - val_mse: 52370423808.0000\n",
            "Epoch 203/400\n",
            "55/55 - 0s - loss: 52839186432.0000 - mae: 152345.4531 - mse: 52839186432.0000 - val_loss: 52336500736.0000 - val_mae: 152542.3281 - val_mse: 52336500736.0000\n",
            "Epoch 204/400\n",
            "55/55 - 0s - loss: 52965154816.0000 - mae: 152384.6875 - mse: 52965154816.0000 - val_loss: 51829919744.0000 - val_mae: 150101.3438 - val_mse: 51829919744.0000\n",
            "Epoch 205/400\n",
            "55/55 - 0s - loss: 52870131712.0000 - mae: 152544.5312 - mse: 52870131712.0000 - val_loss: 51700699136.0000 - val_mae: 147705.1406 - val_mse: 51700699136.0000\n",
            "Epoch 206/400\n",
            "55/55 - 0s - loss: 53114195968.0000 - mae: 152687.2656 - mse: 53114195968.0000 - val_loss: 52451987456.0000 - val_mae: 152358.2812 - val_mse: 52451987456.0000\n",
            "Epoch 207/400\n",
            "55/55 - 0s - loss: 52766158848.0000 - mae: 152433.5781 - mse: 52766158848.0000 - val_loss: 51925045248.0000 - val_mae: 150524.3281 - val_mse: 51925045248.0000\n",
            "Epoch 208/400\n",
            "55/55 - 0s - loss: 53172736000.0000 - mae: 153010.5781 - mse: 53172736000.0000 - val_loss: 54274973696.0000 - val_mae: 156737.4219 - val_mse: 54274973696.0000\n",
            "Epoch 209/400\n",
            "55/55 - 0s - loss: 53725913088.0000 - mae: 154236.2188 - mse: 53725913088.0000 - val_loss: 52829372416.0000 - val_mae: 147198.4844 - val_mse: 52829372416.0000\n",
            "Epoch 210/400\n",
            "55/55 - 0s - loss: 53365325824.0000 - mae: 153557.9219 - mse: 53365325824.0000 - val_loss: 53019975680.0000 - val_mae: 146869.6875 - val_mse: 53019975680.0000\n",
            "Epoch 211/400\n",
            "55/55 - 0s - loss: 53756198912.0000 - mae: 153663.7812 - mse: 53756198912.0000 - val_loss: 52163051520.0000 - val_mae: 147527.5469 - val_mse: 52163051520.0000\n",
            "Epoch 212/400\n",
            "55/55 - 0s - loss: 53420224512.0000 - mae: 153424.9844 - mse: 53420224512.0000 - val_loss: 52331548672.0000 - val_mae: 147165.1094 - val_mse: 52331548672.0000\n",
            "Epoch 213/400\n",
            "55/55 - 0s - loss: 52909342720.0000 - mae: 152717.6250 - mse: 52909342720.0000 - val_loss: 51925819392.0000 - val_mae: 150245.4531 - val_mse: 51925819392.0000\n",
            "Epoch 214/400\n",
            "55/55 - 0s - loss: 53362991104.0000 - mae: 153275.7031 - mse: 53362991104.0000 - val_loss: 53176041472.0000 - val_mae: 152672.6250 - val_mse: 53176041472.0000\n",
            "Epoch 215/400\n",
            "55/55 - 0s - loss: 53170733056.0000 - mae: 153149.2188 - mse: 53170733056.0000 - val_loss: 52908920832.0000 - val_mae: 150353.0312 - val_mse: 52908920832.0000\n",
            "Epoch 216/400\n",
            "55/55 - 0s - loss: 53135441920.0000 - mae: 153015.2344 - mse: 53135441920.0000 - val_loss: 51723657216.0000 - val_mae: 148933.2031 - val_mse: 51723657216.0000\n",
            "Epoch 217/400\n",
            "55/55 - 0s - loss: 52800475136.0000 - mae: 152475.2500 - mse: 52800475136.0000 - val_loss: 52147687424.0000 - val_mae: 150499.1406 - val_mse: 52147687424.0000\n",
            "Epoch 218/400\n",
            "55/55 - 0s - loss: 52954947584.0000 - mae: 152694.5156 - mse: 52954947584.0000 - val_loss: 51804237824.0000 - val_mae: 148315.7812 - val_mse: 51804237824.0000\n",
            "Epoch 219/400\n",
            "55/55 - 0s - loss: 53751775232.0000 - mae: 154050.4844 - mse: 53751775232.0000 - val_loss: 57276026880.0000 - val_mae: 164451.0312 - val_mse: 57276026880.0000\n",
            "Epoch 220/400\n",
            "55/55 - 0s - loss: 54047457280.0000 - mae: 155038.3594 - mse: 54047457280.0000 - val_loss: 52521201664.0000 - val_mae: 152762.2812 - val_mse: 52521201664.0000\n",
            "Epoch 221/400\n",
            "55/55 - 0s - loss: 53096103936.0000 - mae: 152746.7500 - mse: 53096103936.0000 - val_loss: 52734132224.0000 - val_mae: 147492.2031 - val_mse: 52734132224.0000\n",
            "Epoch 222/400\n",
            "55/55 - 0s - loss: 52839137280.0000 - mae: 152262.0469 - mse: 52839137280.0000 - val_loss: 52351426560.0000 - val_mae: 149089.4062 - val_mse: 52351426560.0000\n",
            "Epoch 223/400\n",
            "55/55 - 0s - loss: 52837744640.0000 - mae: 152401.6094 - mse: 52837744640.0000 - val_loss: 52056993792.0000 - val_mae: 148338.3750 - val_mse: 52056993792.0000\n",
            "Epoch 224/400\n",
            "55/55 - 0s - loss: 53028679680.0000 - mae: 152412.1562 - mse: 53028679680.0000 - val_loss: 51939115008.0000 - val_mae: 147499.1562 - val_mse: 51939115008.0000\n",
            "Epoch 225/400\n",
            "55/55 - 0s - loss: 53259972608.0000 - mae: 152950.9375 - mse: 53259972608.0000 - val_loss: 52056936448.0000 - val_mae: 151337.1875 - val_mse: 52056936448.0000\n",
            "Epoch 226/400\n",
            "55/55 - 0s - loss: 52888895488.0000 - mae: 153014.1094 - mse: 52888895488.0000 - val_loss: 52243492864.0000 - val_mae: 147690.6250 - val_mse: 52243492864.0000\n",
            "Epoch 227/400\n",
            "55/55 - 0s - loss: 52494467072.0000 - mae: 151855.5938 - mse: 52494467072.0000 - val_loss: 51927556096.0000 - val_mae: 148033.6719 - val_mse: 51927556096.0000\n",
            "Epoch 228/400\n",
            "55/55 - 0s - loss: 53137960960.0000 - mae: 152568.3906 - mse: 53137960960.0000 - val_loss: 51918299136.0000 - val_mae: 148308.1250 - val_mse: 51918299136.0000\n",
            "Epoch 229/400\n",
            "55/55 - 0s - loss: 52711141376.0000 - mae: 151938.1250 - mse: 52711141376.0000 - val_loss: 52593065984.0000 - val_mae: 146489.1406 - val_mse: 52593065984.0000\n",
            "Epoch 230/400\n",
            "55/55 - 0s - loss: 52805681152.0000 - mae: 152266.8906 - mse: 52805681152.0000 - val_loss: 51942260736.0000 - val_mae: 149288.0938 - val_mse: 51942260736.0000\n",
            "Epoch 231/400\n",
            "55/55 - 0s - loss: 53108117504.0000 - mae: 152600.2031 - mse: 53108117504.0000 - val_loss: 51957067776.0000 - val_mae: 149147.6406 - val_mse: 51957067776.0000\n",
            "Epoch 232/400\n",
            "55/55 - 0s - loss: 53429784576.0000 - mae: 153099.7656 - mse: 53429784576.0000 - val_loss: 54972882944.0000 - val_mae: 158929.5312 - val_mse: 54972882944.0000\n",
            "Epoch 233/400\n",
            "55/55 - 0s - loss: 53190918144.0000 - mae: 153336.8125 - mse: 53190918144.0000 - val_loss: 51974451200.0000 - val_mae: 147782.7500 - val_mse: 51974451200.0000\n",
            "Epoch 234/400\n",
            "55/55 - 0s - loss: 52940689408.0000 - mae: 152380.0781 - mse: 52940689408.0000 - val_loss: 51851677696.0000 - val_mae: 148103.2344 - val_mse: 51851677696.0000\n",
            "Epoch 235/400\n",
            "55/55 - 0s - loss: 52969717760.0000 - mae: 152190.5156 - mse: 52969717760.0000 - val_loss: 51883941888.0000 - val_mae: 150427.2031 - val_mse: 51883941888.0000\n",
            "Epoch 236/400\n",
            "55/55 - 0s - loss: 53669535744.0000 - mae: 154192.1406 - mse: 53669535744.0000 - val_loss: 53079064576.0000 - val_mae: 153446.6406 - val_mse: 53079064576.0000\n",
            "Epoch 237/400\n",
            "55/55 - 0s - loss: 52684754944.0000 - mae: 151989.4375 - mse: 52684754944.0000 - val_loss: 52134584320.0000 - val_mae: 149987.3906 - val_mse: 52134584320.0000\n",
            "Epoch 238/400\n",
            "55/55 - 0s - loss: 52961562624.0000 - mae: 152690.4375 - mse: 52961562624.0000 - val_loss: 52197031936.0000 - val_mae: 148291.1094 - val_mse: 52197031936.0000\n",
            "Epoch 239/400\n",
            "55/55 - 0s - loss: 53031022592.0000 - mae: 152548.0781 - mse: 53031022592.0000 - val_loss: 52394315776.0000 - val_mae: 147526.7812 - val_mse: 52394315776.0000\n",
            "Epoch 240/400\n",
            "55/55 - 0s - loss: 53105139712.0000 - mae: 152655.5938 - mse: 53105139712.0000 - val_loss: 52125188096.0000 - val_mae: 147691.9062 - val_mse: 52125188096.0000\n",
            "Epoch 241/400\n",
            "55/55 - 0s - loss: 52935643136.0000 - mae: 152218.4062 - mse: 52935643136.0000 - val_loss: 52157566976.0000 - val_mae: 150764.1562 - val_mse: 52157566976.0000\n",
            "Epoch 242/400\n",
            "55/55 - 0s - loss: 52932964352.0000 - mae: 152000.9688 - mse: 52932964352.0000 - val_loss: 52348612608.0000 - val_mae: 151748.5312 - val_mse: 52348612608.0000\n",
            "Epoch 243/400\n",
            "55/55 - 0s - loss: 52551716864.0000 - mae: 152296.7969 - mse: 52551716864.0000 - val_loss: 52143157248.0000 - val_mae: 147560.6875 - val_mse: 52143157248.0000\n",
            "Epoch 244/400\n",
            "55/55 - 0s - loss: 52616155136.0000 - mae: 152338.6094 - mse: 52616155136.0000 - val_loss: 52097806336.0000 - val_mae: 149816.4844 - val_mse: 52097806336.0000\n",
            "Epoch 245/400\n",
            "55/55 - 0s - loss: 53132058624.0000 - mae: 152901.3906 - mse: 53132058624.0000 - val_loss: 51947319296.0000 - val_mae: 149650.1562 - val_mse: 51947319296.0000\n",
            "Epoch 246/400\n",
            "55/55 - 0s - loss: 52589211648.0000 - mae: 152233.0625 - mse: 52589211648.0000 - val_loss: 52266205184.0000 - val_mae: 147894.7969 - val_mse: 52266205184.0000\n",
            "Epoch 247/400\n",
            "55/55 - 0s - loss: 52494880768.0000 - mae: 151883.3125 - mse: 52494880768.0000 - val_loss: 54225387520.0000 - val_mae: 156371.4688 - val_mse: 54225387520.0000\n",
            "Epoch 248/400\n",
            "55/55 - 0s - loss: 52753670144.0000 - mae: 152803.8906 - mse: 52753670144.0000 - val_loss: 51856592896.0000 - val_mae: 148265.3750 - val_mse: 51856592896.0000\n",
            "Epoch 249/400\n",
            "55/55 - 0s - loss: 52474163200.0000 - mae: 151580.8438 - mse: 52474163200.0000 - val_loss: 52506525696.0000 - val_mae: 147660.3281 - val_mse: 52506525696.0000\n",
            "Epoch 250/400\n",
            "55/55 - 0s - loss: 52448546816.0000 - mae: 151960.4062 - mse: 52448546816.0000 - val_loss: 52077838336.0000 - val_mae: 151447.1875 - val_mse: 52077838336.0000\n",
            "Epoch 251/400\n",
            "55/55 - 0s - loss: 52288380928.0000 - mae: 151937.9219 - mse: 52288380928.0000 - val_loss: 52110192640.0000 - val_mae: 147652.6250 - val_mse: 52110192640.0000\n",
            "Epoch 252/400\n",
            "55/55 - 0s - loss: 52526469120.0000 - mae: 152269.3594 - mse: 52526469120.0000 - val_loss: 51896909824.0000 - val_mae: 150244.7344 - val_mse: 51896909824.0000\n",
            "Epoch 253/400\n",
            "55/55 - 0s - loss: 52345135104.0000 - mae: 151630.8750 - mse: 52345135104.0000 - val_loss: 51983470592.0000 - val_mae: 149180.3125 - val_mse: 51983470592.0000\n",
            "Epoch 254/400\n",
            "55/55 - 0s - loss: 52402343936.0000 - mae: 151654.5469 - mse: 52402343936.0000 - val_loss: 52223844352.0000 - val_mae: 146823.2188 - val_mse: 52223844352.0000\n",
            "Epoch 255/400\n",
            "55/55 - 0s - loss: 52588462080.0000 - mae: 152637.0312 - mse: 52588462080.0000 - val_loss: 51892371456.0000 - val_mae: 148321.4375 - val_mse: 51892371456.0000\n",
            "Epoch 256/400\n",
            "55/55 - 0s - loss: 53629308928.0000 - mae: 152905.4375 - mse: 53629308928.0000 - val_loss: 51782029312.0000 - val_mae: 149850.4844 - val_mse: 51782029312.0000\n",
            "Epoch 257/400\n",
            "55/55 - 0s - loss: 52311396352.0000 - mae: 151886.3125 - mse: 52311396352.0000 - val_loss: 51989655552.0000 - val_mae: 148921.5938 - val_mse: 51989655552.0000\n",
            "Epoch 258/400\n",
            "55/55 - 0s - loss: 52183826432.0000 - mae: 151533.7656 - mse: 52183826432.0000 - val_loss: 53281443840.0000 - val_mae: 146904.5938 - val_mse: 53281443840.0000\n",
            "Epoch 259/400\n",
            "55/55 - 0s - loss: 52757819392.0000 - mae: 152227.7031 - mse: 52757819392.0000 - val_loss: 51786436608.0000 - val_mae: 147788.1562 - val_mse: 51786436608.0000\n",
            "Epoch 260/400\n",
            "55/55 - 0s - loss: 52413513728.0000 - mae: 152310.2969 - mse: 52413513728.0000 - val_loss: 51995484160.0000 - val_mae: 148826.1562 - val_mse: 51995484160.0000\n",
            "Epoch 261/400\n",
            "55/55 - 0s - loss: 52867825664.0000 - mae: 152265.4062 - mse: 52867825664.0000 - val_loss: 51727572992.0000 - val_mae: 147546.0469 - val_mse: 51727572992.0000\n",
            "Epoch 262/400\n",
            "55/55 - 0s - loss: 53560745984.0000 - mae: 153329.5781 - mse: 53560745984.0000 - val_loss: 52242509824.0000 - val_mae: 147737.2500 - val_mse: 52242509824.0000\n",
            "Epoch 263/400\n",
            "55/55 - 0s - loss: 52426620928.0000 - mae: 152121.2188 - mse: 52426620928.0000 - val_loss: 51956518912.0000 - val_mae: 149125.3281 - val_mse: 51956518912.0000\n",
            "Epoch 264/400\n",
            "55/55 - 0s - loss: 52624183296.0000 - mae: 152128.5781 - mse: 52624183296.0000 - val_loss: 52724695040.0000 - val_mae: 146851.7031 - val_mse: 52724695040.0000\n",
            "Epoch 265/400\n",
            "55/55 - 0s - loss: 52552884224.0000 - mae: 151574.2500 - mse: 52552884224.0000 - val_loss: 51735363584.0000 - val_mae: 148363.5469 - val_mse: 51735363584.0000\n",
            "Epoch 266/400\n",
            "55/55 - 0s - loss: 52286054400.0000 - mae: 152073.5625 - mse: 52286054400.0000 - val_loss: 54360440832.0000 - val_mae: 156690.4531 - val_mse: 54360440832.0000\n",
            "Epoch 267/400\n",
            "55/55 - 0s - loss: 53216362496.0000 - mae: 153660.8750 - mse: 53216362496.0000 - val_loss: 52378210304.0000 - val_mae: 149294.3125 - val_mse: 52378210304.0000\n",
            "Epoch 268/400\n",
            "55/55 - 0s - loss: 52427956224.0000 - mae: 152137.4688 - mse: 52427956224.0000 - val_loss: 55419875328.0000 - val_mae: 158292.0938 - val_mse: 55419875328.0000\n",
            "Epoch 269/400\n",
            "55/55 - 0s - loss: 52621082624.0000 - mae: 152755.4844 - mse: 52621082624.0000 - val_loss: 52030611456.0000 - val_mae: 149445.1406 - val_mse: 52030611456.0000\n",
            "Epoch 270/400\n",
            "55/55 - 0s - loss: 52670849024.0000 - mae: 152658.8750 - mse: 52670849024.0000 - val_loss: 52187623424.0000 - val_mae: 150019.4219 - val_mse: 52187623424.0000\n",
            "Epoch 271/400\n",
            "55/55 - 0s - loss: 52381388800.0000 - mae: 151899.8594 - mse: 52381388800.0000 - val_loss: 51895738368.0000 - val_mae: 147349.0625 - val_mse: 51895738368.0000\n",
            "Epoch 272/400\n",
            "55/55 - 0s - loss: 52250116096.0000 - mae: 151414.5781 - mse: 52250116096.0000 - val_loss: 52522315776.0000 - val_mae: 149572.5938 - val_mse: 52522315776.0000\n",
            "Epoch 273/400\n",
            "55/55 - 0s - loss: 52362412032.0000 - mae: 152209.7969 - mse: 52362412032.0000 - val_loss: 52407107584.0000 - val_mae: 148046.0000 - val_mse: 52407107584.0000\n",
            "Epoch 274/400\n",
            "55/55 - 0s - loss: 52413423616.0000 - mae: 151558.0625 - mse: 52413423616.0000 - val_loss: 51957452800.0000 - val_mae: 148367.8906 - val_mse: 51957452800.0000\n",
            "Epoch 275/400\n",
            "55/55 - 0s - loss: 52168884224.0000 - mae: 151497.5469 - mse: 52168884224.0000 - val_loss: 51791609856.0000 - val_mae: 149093.1250 - val_mse: 51791609856.0000\n",
            "Epoch 276/400\n",
            "55/55 - 0s - loss: 52458938368.0000 - mae: 152289.5312 - mse: 52458938368.0000 - val_loss: 55685464064.0000 - val_mae: 148917.0312 - val_mse: 55685464064.0000\n",
            "Epoch 277/400\n",
            "55/55 - 0s - loss: 52633047040.0000 - mae: 151635.9219 - mse: 52633047040.0000 - val_loss: 52766314496.0000 - val_mae: 152240.1719 - val_mse: 52766314496.0000\n",
            "Epoch 278/400\n",
            "55/55 - 0s - loss: 52086542336.0000 - mae: 151439.5625 - mse: 52086542336.0000 - val_loss: 52303368192.0000 - val_mae: 149491.2188 - val_mse: 52303368192.0000\n",
            "Epoch 279/400\n",
            "55/55 - 0s - loss: 52807049216.0000 - mae: 152931.3750 - mse: 52807049216.0000 - val_loss: 52122472448.0000 - val_mae: 148228.3906 - val_mse: 52122472448.0000\n",
            "Epoch 280/400\n",
            "55/55 - 0s - loss: 51927666688.0000 - mae: 151419.2969 - mse: 51927666688.0000 - val_loss: 52514869248.0000 - val_mae: 147346.8281 - val_mse: 52514869248.0000\n",
            "Epoch 281/400\n",
            "55/55 - 0s - loss: 52282572800.0000 - mae: 151413.2969 - mse: 52282572800.0000 - val_loss: 52268158976.0000 - val_mae: 150404.2656 - val_mse: 52268158976.0000\n",
            "Epoch 282/400\n",
            "55/55 - 0s - loss: 52216356864.0000 - mae: 151585.6250 - mse: 52216356864.0000 - val_loss: 51980333056.0000 - val_mae: 147819.8906 - val_mse: 51980333056.0000\n",
            "Epoch 283/400\n",
            "55/55 - 0s - loss: 52441702400.0000 - mae: 151632.3594 - mse: 52441702400.0000 - val_loss: 53119279104.0000 - val_mae: 153242.0625 - val_mse: 53119279104.0000\n",
            "Epoch 284/400\n",
            "55/55 - 0s - loss: 52058210304.0000 - mae: 151487.4219 - mse: 52058210304.0000 - val_loss: 52012400640.0000 - val_mae: 148610.5938 - val_mse: 52012400640.0000\n",
            "Epoch 285/400\n",
            "55/55 - 0s - loss: 52015726592.0000 - mae: 151548.2031 - mse: 52015726592.0000 - val_loss: 52363218944.0000 - val_mae: 147306.2969 - val_mse: 52363218944.0000\n",
            "Epoch 286/400\n",
            "55/55 - 0s - loss: 52135485440.0000 - mae: 151287.6094 - mse: 52135485440.0000 - val_loss: 52241113088.0000 - val_mae: 147291.7969 - val_mse: 52241113088.0000\n",
            "Epoch 287/400\n",
            "55/55 - 0s - loss: 52348264448.0000 - mae: 151768.5000 - mse: 52348264448.0000 - val_loss: 52292341760.0000 - val_mae: 150580.5000 - val_mse: 52292341760.0000\n",
            "Epoch 288/400\n",
            "55/55 - 0s - loss: 51894673408.0000 - mae: 151242.5469 - mse: 51894673408.0000 - val_loss: 52910661632.0000 - val_mae: 151719.8125 - val_mse: 52910661632.0000\n",
            "Epoch 289/400\n",
            "55/55 - 0s - loss: 52510957568.0000 - mae: 152407.0625 - mse: 52510957568.0000 - val_loss: 53410000896.0000 - val_mae: 152545.2188 - val_mse: 53410000896.0000\n",
            "Epoch 290/400\n",
            "55/55 - 0s - loss: 51918995456.0000 - mae: 151372.6250 - mse: 51918995456.0000 - val_loss: 52090683392.0000 - val_mae: 149520.0781 - val_mse: 52090683392.0000\n",
            "Epoch 291/400\n",
            "55/55 - 0s - loss: 52257456128.0000 - mae: 151718.6406 - mse: 52257456128.0000 - val_loss: 52316819456.0000 - val_mae: 148114.0312 - val_mse: 52316819456.0000\n",
            "Epoch 292/400\n",
            "55/55 - 0s - loss: 52527116288.0000 - mae: 152525.9844 - mse: 52527116288.0000 - val_loss: 52019175424.0000 - val_mae: 148188.3281 - val_mse: 52019175424.0000\n",
            "Epoch 293/400\n",
            "55/55 - 0s - loss: 52203024384.0000 - mae: 151903.9688 - mse: 52203024384.0000 - val_loss: 52497408000.0000 - val_mae: 146187.0781 - val_mse: 52497408000.0000\n",
            "Epoch 294/400\n",
            "55/55 - 0s - loss: 52209917952.0000 - mae: 151012.9375 - mse: 52209917952.0000 - val_loss: 51711356928.0000 - val_mae: 148889.6562 - val_mse: 51711356928.0000\n",
            "Epoch 295/400\n",
            "55/55 - 0s - loss: 52064813056.0000 - mae: 151251.6250 - mse: 52064813056.0000 - val_loss: 52841041920.0000 - val_mae: 146358.8594 - val_mse: 52841041920.0000\n",
            "Epoch 296/400\n",
            "55/55 - 0s - loss: 52422311936.0000 - mae: 151751.6562 - mse: 52422311936.0000 - val_loss: 52333260800.0000 - val_mae: 146734.0781 - val_mse: 52333260800.0000\n",
            "Epoch 297/400\n",
            "55/55 - 0s - loss: 51946078208.0000 - mae: 151210.2031 - mse: 51946078208.0000 - val_loss: 52201517056.0000 - val_mae: 147852.5312 - val_mse: 52201517056.0000\n",
            "Epoch 298/400\n",
            "55/55 - 0s - loss: 51796267008.0000 - mae: 151087.4688 - mse: 51796267008.0000 - val_loss: 52297453568.0000 - val_mae: 148108.3750 - val_mse: 52297453568.0000\n",
            "Epoch 299/400\n",
            "55/55 - 0s - loss: 51952746496.0000 - mae: 151129.2344 - mse: 51952746496.0000 - val_loss: 52280537088.0000 - val_mae: 149580.8750 - val_mse: 52280537088.0000\n",
            "Epoch 300/400\n",
            "55/55 - 0s - loss: 52005158912.0000 - mae: 151454.0938 - mse: 52005158912.0000 - val_loss: 51880906752.0000 - val_mae: 150019.5781 - val_mse: 51880906752.0000\n",
            "Epoch 301/400\n",
            "55/55 - 0s - loss: 52008038400.0000 - mae: 151260.2188 - mse: 52008038400.0000 - val_loss: 52350365696.0000 - val_mae: 149527.2969 - val_mse: 52350365696.0000\n",
            "Epoch 302/400\n",
            "55/55 - 0s - loss: 52002725888.0000 - mae: 151137.6250 - mse: 52002725888.0000 - val_loss: 52093739008.0000 - val_mae: 146542.6406 - val_mse: 52093739008.0000\n",
            "Epoch 303/400\n",
            "55/55 - 0s - loss: 52137222144.0000 - mae: 152039.3594 - mse: 52137222144.0000 - val_loss: 52510691328.0000 - val_mae: 150395.1250 - val_mse: 52510691328.0000\n",
            "Epoch 304/400\n",
            "55/55 - 0s - loss: 52066467840.0000 - mae: 151289.3125 - mse: 52066467840.0000 - val_loss: 53962477568.0000 - val_mae: 154603.7500 - val_mse: 53962477568.0000\n",
            "Epoch 305/400\n",
            "55/55 - 0s - loss: 52119810048.0000 - mae: 151831.4375 - mse: 52119810048.0000 - val_loss: 53546045440.0000 - val_mae: 146746.2656 - val_mse: 53546045440.0000\n",
            "Epoch 306/400\n",
            "55/55 - 0s - loss: 51918905344.0000 - mae: 150639.6094 - mse: 51918905344.0000 - val_loss: 55512502272.0000 - val_mae: 159875.1094 - val_mse: 55512502272.0000\n",
            "Epoch 307/400\n",
            "55/55 - 0s - loss: 55030484992.0000 - mae: 156795.6562 - mse: 55030484992.0000 - val_loss: 52071694336.0000 - val_mae: 149002.5469 - val_mse: 52071694336.0000\n",
            "Epoch 308/400\n",
            "55/55 - 0s - loss: 51993436160.0000 - mae: 150792.2500 - mse: 51993436160.0000 - val_loss: 52283047936.0000 - val_mae: 151016.5938 - val_mse: 52283047936.0000\n",
            "Epoch 309/400\n",
            "55/55 - 0s - loss: 52044038144.0000 - mae: 151153.0625 - mse: 52044038144.0000 - val_loss: 51831185408.0000 - val_mae: 147138.4375 - val_mse: 51831185408.0000\n",
            "Epoch 310/400\n",
            "55/55 - 0s - loss: 52344135680.0000 - mae: 151123.1250 - mse: 52344135680.0000 - val_loss: 51874197504.0000 - val_mae: 148014.7812 - val_mse: 51874197504.0000\n",
            "Epoch 311/400\n",
            "55/55 - 0s - loss: 51658387456.0000 - mae: 150734.7812 - mse: 51658387456.0000 - val_loss: 51878498304.0000 - val_mae: 148229.5469 - val_mse: 51878498304.0000\n",
            "Epoch 312/400\n",
            "55/55 - 0s - loss: 51664887808.0000 - mae: 150384.1719 - mse: 51664887808.0000 - val_loss: 52509081600.0000 - val_mae: 150538.7188 - val_mse: 52509081600.0000\n",
            "Epoch 313/400\n",
            "55/55 - 0s - loss: 51732365312.0000 - mae: 151061.2969 - mse: 51732365312.0000 - val_loss: 53775007744.0000 - val_mae: 154296.5938 - val_mse: 53775007744.0000\n",
            "Epoch 314/400\n",
            "55/55 - 0s - loss: 51868770304.0000 - mae: 151126.9219 - mse: 51868770304.0000 - val_loss: 51821805568.0000 - val_mae: 148427.4688 - val_mse: 51821805568.0000\n",
            "Epoch 315/400\n",
            "55/55 - 0s - loss: 51682029568.0000 - mae: 150622.0781 - mse: 51682029568.0000 - val_loss: 52204802048.0000 - val_mae: 148614.7969 - val_mse: 52204802048.0000\n",
            "Epoch 316/400\n",
            "55/55 - 0s - loss: 51692470272.0000 - mae: 150704.2344 - mse: 51692470272.0000 - val_loss: 52811878400.0000 - val_mae: 151073.9844 - val_mse: 52811878400.0000\n",
            "Epoch 317/400\n",
            "55/55 - 0s - loss: 51935129600.0000 - mae: 151001.1562 - mse: 51935129600.0000 - val_loss: 51467206656.0000 - val_mae: 149129.0625 - val_mse: 51467206656.0000\n",
            "Epoch 318/400\n",
            "55/55 - 0s - loss: 51942699008.0000 - mae: 151447.1250 - mse: 51942699008.0000 - val_loss: 51544293376.0000 - val_mae: 147429.7969 - val_mse: 51544293376.0000\n",
            "Epoch 319/400\n",
            "55/55 - 0s - loss: 51604463616.0000 - mae: 150380.3750 - mse: 51604463616.0000 - val_loss: 52520243200.0000 - val_mae: 151113.8125 - val_mse: 52520243200.0000\n",
            "Epoch 320/400\n",
            "55/55 - 0s - loss: 51857723392.0000 - mae: 151121.4688 - mse: 51857723392.0000 - val_loss: 51625959424.0000 - val_mae: 147395.6875 - val_mse: 51625959424.0000\n",
            "Epoch 321/400\n",
            "55/55 - 0s - loss: 51510173696.0000 - mae: 150808.9062 - mse: 51510173696.0000 - val_loss: 52340494336.0000 - val_mae: 146918.1094 - val_mse: 52340494336.0000\n",
            "Epoch 322/400\n",
            "55/55 - 0s - loss: 51724386304.0000 - mae: 150452.2812 - mse: 51724386304.0000 - val_loss: 51863822336.0000 - val_mae: 147266.5312 - val_mse: 51863822336.0000\n",
            "Epoch 323/400\n",
            "55/55 - 0s - loss: 51891474432.0000 - mae: 151201.7344 - mse: 51891474432.0000 - val_loss: 53943623680.0000 - val_mae: 155075.0625 - val_mse: 53943623680.0000\n",
            "Epoch 324/400\n",
            "55/55 - 0s - loss: 52312969216.0000 - mae: 151811.8281 - mse: 52312969216.0000 - val_loss: 51778412544.0000 - val_mae: 148505.8750 - val_mse: 51778412544.0000\n",
            "Epoch 325/400\n",
            "55/55 - 0s - loss: 51508613120.0000 - mae: 150519.8281 - mse: 51508613120.0000 - val_loss: 51733278720.0000 - val_mae: 147449.5312 - val_mse: 51733278720.0000\n",
            "Epoch 326/400\n",
            "55/55 - 0s - loss: 52498743296.0000 - mae: 151785.1094 - mse: 52498743296.0000 - val_loss: 52648751104.0000 - val_mae: 148587.7656 - val_mse: 52648751104.0000\n",
            "Epoch 327/400\n",
            "55/55 - 0s - loss: 51599831040.0000 - mae: 150489.0156 - mse: 51599831040.0000 - val_loss: 51701755904.0000 - val_mae: 147325.9219 - val_mse: 51701755904.0000\n",
            "Epoch 328/400\n",
            "55/55 - 0s - loss: 51464515584.0000 - mae: 150527.7031 - mse: 51464515584.0000 - val_loss: 52323909632.0000 - val_mae: 146280.6406 - val_mse: 52323909632.0000\n",
            "Epoch 329/400\n",
            "55/55 - 0s - loss: 51886055424.0000 - mae: 150941.0469 - mse: 51886055424.0000 - val_loss: 51962798080.0000 - val_mae: 148597.7500 - val_mse: 51962798080.0000\n",
            "Epoch 330/400\n",
            "55/55 - 0s - loss: 51615862784.0000 - mae: 150937.6094 - mse: 51615862784.0000 - val_loss: 52124934144.0000 - val_mae: 146278.8594 - val_mse: 52124934144.0000\n",
            "Epoch 331/400\n",
            "55/55 - 0s - loss: 51712319488.0000 - mae: 150861.3281 - mse: 51712319488.0000 - val_loss: 53928808448.0000 - val_mae: 154607.0781 - val_mse: 53928808448.0000\n",
            "Epoch 332/400\n",
            "55/55 - 0s - loss: 51851468800.0000 - mae: 150754.4219 - mse: 51851468800.0000 - val_loss: 51988434944.0000 - val_mae: 147141.1406 - val_mse: 51988434944.0000\n",
            "Epoch 333/400\n",
            "55/55 - 0s - loss: 51751534592.0000 - mae: 151172.8906 - mse: 51751534592.0000 - val_loss: 51817791488.0000 - val_mae: 147539.7344 - val_mse: 51817791488.0000\n",
            "Epoch 334/400\n",
            "55/55 - 0s - loss: 52157612032.0000 - mae: 151022.0156 - mse: 52157612032.0000 - val_loss: 53634162688.0000 - val_mae: 154330.0938 - val_mse: 53634162688.0000\n",
            "Epoch 335/400\n",
            "55/55 - 0s - loss: 51652173824.0000 - mae: 151022.9844 - mse: 51652173824.0000 - val_loss: 51940909056.0000 - val_mae: 146848.7969 - val_mse: 51940909056.0000\n",
            "Epoch 336/400\n",
            "55/55 - 0s - loss: 51357343744.0000 - mae: 150111.4844 - mse: 51357343744.0000 - val_loss: 51718037504.0000 - val_mae: 146795.0938 - val_mse: 51718037504.0000\n",
            "Epoch 337/400\n",
            "55/55 - 0s - loss: 53483941888.0000 - mae: 152484.0312 - mse: 53483941888.0000 - val_loss: 51338121216.0000 - val_mae: 149249.4844 - val_mse: 51338121216.0000\n",
            "Epoch 338/400\n",
            "55/55 - 0s - loss: 51387076608.0000 - mae: 150528.9219 - mse: 51387076608.0000 - val_loss: 51938340864.0000 - val_mae: 146791.7500 - val_mse: 51938340864.0000\n",
            "Epoch 339/400\n",
            "55/55 - 0s - loss: 51437764608.0000 - mae: 150320.2812 - mse: 51437764608.0000 - val_loss: 51835305984.0000 - val_mae: 147738.5000 - val_mse: 51835305984.0000\n",
            "Epoch 340/400\n",
            "55/55 - 0s - loss: 51434266624.0000 - mae: 150188.5625 - mse: 51434266624.0000 - val_loss: 51862687744.0000 - val_mae: 146627.5781 - val_mse: 51862687744.0000\n",
            "Epoch 341/400\n",
            "55/55 - 0s - loss: 51327184896.0000 - mae: 150576.7969 - mse: 51327184896.0000 - val_loss: 53333532672.0000 - val_mae: 146672.8125 - val_mse: 53333532672.0000\n",
            "Epoch 342/400\n",
            "55/55 - 0s - loss: 52619923456.0000 - mae: 151834.2969 - mse: 52619923456.0000 - val_loss: 51787599872.0000 - val_mae: 147536.5312 - val_mse: 51787599872.0000\n",
            "Epoch 343/400\n",
            "55/55 - 0s - loss: 51289710592.0000 - mae: 150088.8281 - mse: 51289710592.0000 - val_loss: 51984097280.0000 - val_mae: 148951.1406 - val_mse: 51984097280.0000\n",
            "Epoch 344/400\n",
            "55/55 - 0s - loss: 51186954240.0000 - mae: 150175.6094 - mse: 51186954240.0000 - val_loss: 52162129920.0000 - val_mae: 149201.5000 - val_mse: 52162129920.0000\n",
            "Epoch 345/400\n",
            "55/55 - 0s - loss: 51383201792.0000 - mae: 150041.8438 - mse: 51383201792.0000 - val_loss: 58138968064.0000 - val_mae: 165903.6406 - val_mse: 58138968064.0000\n",
            "Epoch 346/400\n",
            "55/55 - 0s - loss: 53560025088.0000 - mae: 154663.3594 - mse: 53560025088.0000 - val_loss: 52345782272.0000 - val_mae: 146678.2500 - val_mse: 52345782272.0000\n",
            "Epoch 347/400\n",
            "55/55 - 0s - loss: 51413516288.0000 - mae: 150453.4531 - mse: 51413516288.0000 - val_loss: 52043730944.0000 - val_mae: 148113.9844 - val_mse: 52043730944.0000\n",
            "Epoch 348/400\n",
            "55/55 - 0s - loss: 51464486912.0000 - mae: 151054.4062 - mse: 51464486912.0000 - val_loss: 52051099648.0000 - val_mae: 146122.7500 - val_mse: 52051099648.0000\n",
            "Epoch 349/400\n",
            "55/55 - 0s - loss: 52440530944.0000 - mae: 152255.8125 - mse: 52440530944.0000 - val_loss: 54190002176.0000 - val_mae: 147335.8125 - val_mse: 54190002176.0000\n",
            "Epoch 350/400\n",
            "55/55 - 0s - loss: 52258643968.0000 - mae: 151602.8438 - mse: 52258643968.0000 - val_loss: 51979907072.0000 - val_mae: 149572.6094 - val_mse: 51979907072.0000\n",
            "Epoch 351/400\n",
            "55/55 - 0s - loss: 51384623104.0000 - mae: 150592.3125 - mse: 51384623104.0000 - val_loss: 54977433600.0000 - val_mae: 155918.9688 - val_mse: 54977433600.0000\n",
            "Epoch 352/400\n",
            "55/55 - 0s - loss: 51789029376.0000 - mae: 150894.1406 - mse: 51789029376.0000 - val_loss: 52569206784.0000 - val_mae: 150019.0781 - val_mse: 52569206784.0000\n",
            "Epoch 353/400\n",
            "55/55 - 0s - loss: 51321917440.0000 - mae: 150154.2188 - mse: 51321917440.0000 - val_loss: 52240674816.0000 - val_mae: 148217.4531 - val_mse: 52240674816.0000\n",
            "Epoch 354/400\n",
            "55/55 - 0s - loss: 51212795904.0000 - mae: 149768.6875 - mse: 51212795904.0000 - val_loss: 55006261248.0000 - val_mae: 156523.3438 - val_mse: 55006261248.0000\n",
            "Epoch 355/400\n",
            "55/55 - 0s - loss: 52459859968.0000 - mae: 152281.3906 - mse: 52459859968.0000 - val_loss: 55227498496.0000 - val_mae: 158829.1094 - val_mse: 55227498496.0000\n",
            "Epoch 356/400\n",
            "55/55 - 0s - loss: 52006248448.0000 - mae: 151657.6562 - mse: 52006248448.0000 - val_loss: 53435768832.0000 - val_mae: 154809.8906 - val_mse: 53435768832.0000\n",
            "Epoch 357/400\n",
            "55/55 - 0s - loss: 51325612032.0000 - mae: 150486.6875 - mse: 51325612032.0000 - val_loss: 54059159552.0000 - val_mae: 153082.7812 - val_mse: 54059159552.0000\n",
            "Epoch 358/400\n",
            "55/55 - 0s - loss: 51837689856.0000 - mae: 151282.9375 - mse: 51837689856.0000 - val_loss: 53633912832.0000 - val_mae: 151630.5781 - val_mse: 53633912832.0000\n",
            "Epoch 359/400\n",
            "55/55 - 0s - loss: 51338035200.0000 - mae: 149702.4062 - mse: 51338035200.0000 - val_loss: 52277121024.0000 - val_mae: 150917.7188 - val_mse: 52277121024.0000\n",
            "Epoch 360/400\n",
            "55/55 - 0s - loss: 51217010688.0000 - mae: 150397.9062 - mse: 51217010688.0000 - val_loss: 52389953536.0000 - val_mae: 147036.6875 - val_mse: 52389953536.0000\n",
            "Epoch 361/400\n",
            "55/55 - 0s - loss: 51674648576.0000 - mae: 150627.3438 - mse: 51674648576.0000 - val_loss: 52891574272.0000 - val_mae: 152660.8438 - val_mse: 52891574272.0000\n",
            "Epoch 362/400\n",
            "55/55 - 0s - loss: 51113738240.0000 - mae: 150178.2031 - mse: 51113738240.0000 - val_loss: 52749004800.0000 - val_mae: 150996.5625 - val_mse: 52749004800.0000\n",
            "Epoch 363/400\n",
            "55/55 - 0s - loss: 51028201472.0000 - mae: 149504.5938 - mse: 51028201472.0000 - val_loss: 51815399424.0000 - val_mae: 148504.9062 - val_mse: 51815399424.0000\n",
            "Epoch 364/400\n",
            "55/55 - 0s - loss: 51418013696.0000 - mae: 150467.4375 - mse: 51418013696.0000 - val_loss: 51642527744.0000 - val_mae: 146674.5469 - val_mse: 51642527744.0000\n",
            "Epoch 365/400\n",
            "55/55 - 0s - loss: 50945839104.0000 - mae: 149744.7188 - mse: 50945839104.0000 - val_loss: 53349023744.0000 - val_mae: 152988.9219 - val_mse: 53349023744.0000\n",
            "Epoch 366/400\n",
            "55/55 - 0s - loss: 51349221376.0000 - mae: 150506.3281 - mse: 51349221376.0000 - val_loss: 52542533632.0000 - val_mae: 145346.5469 - val_mse: 52542533632.0000\n",
            "Epoch 367/400\n",
            "55/55 - 0s - loss: 52130680832.0000 - mae: 151472.2812 - mse: 52130680832.0000 - val_loss: 51985080320.0000 - val_mae: 146155.9375 - val_mse: 51985080320.0000\n",
            "Epoch 368/400\n",
            "55/55 - 0s - loss: 51583782912.0000 - mae: 150634.6250 - mse: 51583782912.0000 - val_loss: 52482805760.0000 - val_mae: 150654.6562 - val_mse: 52482805760.0000\n",
            "Epoch 369/400\n",
            "55/55 - 0s - loss: 50897133568.0000 - mae: 149642.7188 - mse: 50897133568.0000 - val_loss: 51298082816.0000 - val_mae: 147567.2812 - val_mse: 51298082816.0000\n",
            "Epoch 370/400\n",
            "55/55 - 0s - loss: 51012780032.0000 - mae: 149663.8438 - mse: 51012780032.0000 - val_loss: 51970957312.0000 - val_mae: 148839.2500 - val_mse: 51970957312.0000\n",
            "Epoch 371/400\n",
            "55/55 - 0s - loss: 50940940288.0000 - mae: 149249.0938 - mse: 50940940288.0000 - val_loss: 56517738496.0000 - val_mae: 159893.0781 - val_mse: 56517738496.0000\n",
            "Epoch 372/400\n",
            "55/55 - 0s - loss: 53290127360.0000 - mae: 155010.0156 - mse: 53290127360.0000 - val_loss: 52505485312.0000 - val_mae: 149839.8906 - val_mse: 52505485312.0000\n",
            "Epoch 373/400\n",
            "55/55 - 0s - loss: 51130015744.0000 - mae: 150220.7031 - mse: 51130015744.0000 - val_loss: 58488258560.0000 - val_mae: 164807.4844 - val_mse: 58488258560.0000\n",
            "Epoch 374/400\n",
            "55/55 - 0s - loss: 52780257280.0000 - mae: 153209.3438 - mse: 52780257280.0000 - val_loss: 51730255872.0000 - val_mae: 145755.5781 - val_mse: 51730255872.0000\n",
            "Epoch 375/400\n",
            "55/55 - 0s - loss: 53281492992.0000 - mae: 153683.4062 - mse: 53281492992.0000 - val_loss: 52289323008.0000 - val_mae: 149562.8750 - val_mse: 52289323008.0000\n",
            "Epoch 376/400\n",
            "55/55 - 0s - loss: 51289526272.0000 - mae: 150206.3594 - mse: 51289526272.0000 - val_loss: 53184225280.0000 - val_mae: 146656.0312 - val_mse: 53184225280.0000\n",
            "Epoch 377/400\n",
            "55/55 - 0s - loss: 51528294400.0000 - mae: 149984.0312 - mse: 51528294400.0000 - val_loss: 52471558144.0000 - val_mae: 152322.7188 - val_mse: 52471558144.0000\n",
            "Epoch 378/400\n",
            "55/55 - 0s - loss: 50614288384.0000 - mae: 148989.7188 - mse: 50614288384.0000 - val_loss: 51522891776.0000 - val_mae: 146892.8594 - val_mse: 51522891776.0000\n",
            "Epoch 379/400\n",
            "55/55 - 0s - loss: 51124551680.0000 - mae: 149897.1719 - mse: 51124551680.0000 - val_loss: 51404984320.0000 - val_mae: 146980.9844 - val_mse: 51404984320.0000\n",
            "Epoch 380/400\n",
            "55/55 - 0s - loss: 50627915776.0000 - mae: 149297.8906 - mse: 50627915776.0000 - val_loss: 51818356736.0000 - val_mae: 147767.8125 - val_mse: 51818356736.0000\n",
            "Epoch 381/400\n",
            "55/55 - 0s - loss: 50744008704.0000 - mae: 149230.9219 - mse: 50744008704.0000 - val_loss: 51313803264.0000 - val_mae: 147625.4688 - val_mse: 51313803264.0000\n",
            "Epoch 382/400\n",
            "55/55 - 0s - loss: 50860888064.0000 - mae: 149818.2969 - mse: 50860888064.0000 - val_loss: 52007788544.0000 - val_mae: 145776.5938 - val_mse: 52007788544.0000\n",
            "Epoch 383/400\n",
            "55/55 - 0s - loss: 51003756544.0000 - mae: 149788.1250 - mse: 51003756544.0000 - val_loss: 51459559424.0000 - val_mae: 146229.3594 - val_mse: 51459559424.0000\n",
            "Epoch 384/400\n",
            "55/55 - 0s - loss: 51100672000.0000 - mae: 150374.5625 - mse: 51100672000.0000 - val_loss: 52691423232.0000 - val_mae: 152417.3750 - val_mse: 52691423232.0000\n",
            "Epoch 385/400\n",
            "55/55 - 0s - loss: 50826792960.0000 - mae: 149072.2188 - mse: 50826792960.0000 - val_loss: 51906113536.0000 - val_mae: 148928.5156 - val_mse: 51906113536.0000\n",
            "Epoch 386/400\n",
            "55/55 - 0s - loss: 50581422080.0000 - mae: 149774.8125 - mse: 50581422080.0000 - val_loss: 51771383808.0000 - val_mae: 146310.8906 - val_mse: 51771383808.0000\n",
            "Epoch 387/400\n",
            "55/55 - 0s - loss: 50837692416.0000 - mae: 149340.9062 - mse: 50837692416.0000 - val_loss: 52595388416.0000 - val_mae: 150627.2500 - val_mse: 52595388416.0000\n",
            "Epoch 388/400\n",
            "55/55 - 0s - loss: 51051589632.0000 - mae: 150026.7031 - mse: 51051589632.0000 - val_loss: 52360171520.0000 - val_mae: 148626.5312 - val_mse: 52360171520.0000\n",
            "Epoch 389/400\n",
            "55/55 - 0s - loss: 50681688064.0000 - mae: 149345.7188 - mse: 50681688064.0000 - val_loss: 52020555776.0000 - val_mae: 146821.9688 - val_mse: 52020555776.0000\n",
            "Epoch 390/400\n",
            "55/55 - 0s - loss: 50569977856.0000 - mae: 148794.0625 - mse: 50569977856.0000 - val_loss: 50948628480.0000 - val_mae: 146609.4219 - val_mse: 50948628480.0000\n",
            "Epoch 391/400\n",
            "55/55 - 0s - loss: 50582036480.0000 - mae: 149028.2969 - mse: 50582036480.0000 - val_loss: 51718033408.0000 - val_mae: 146866.7969 - val_mse: 51718033408.0000\n",
            "Epoch 392/400\n",
            "55/55 - 0s - loss: 51124072448.0000 - mae: 150246.5781 - mse: 51124072448.0000 - val_loss: 51830898688.0000 - val_mae: 147075.1250 - val_mse: 51830898688.0000\n",
            "Epoch 393/400\n",
            "55/55 - 0s - loss: 50456363008.0000 - mae: 148931.3750 - mse: 50456363008.0000 - val_loss: 51959443456.0000 - val_mae: 145700.4844 - val_mse: 51959443456.0000\n",
            "Epoch 394/400\n",
            "55/55 - 0s - loss: 50811322368.0000 - mae: 149114.4219 - mse: 50811322368.0000 - val_loss: 51382747136.0000 - val_mae: 146475.4531 - val_mse: 51382747136.0000\n",
            "Epoch 395/400\n",
            "55/55 - 0s - loss: 50584027136.0000 - mae: 149092.3281 - mse: 50584027136.0000 - val_loss: 52236734464.0000 - val_mae: 147287.7969 - val_mse: 52236734464.0000\n",
            "Epoch 396/400\n",
            "55/55 - 0s - loss: 50530471936.0000 - mae: 149030.4062 - mse: 50530471936.0000 - val_loss: 51847454720.0000 - val_mae: 145228.2188 - val_mse: 51847454720.0000\n",
            "Epoch 397/400\n",
            "55/55 - 0s - loss: 50663464960.0000 - mae: 149155.8281 - mse: 50663464960.0000 - val_loss: 51612622848.0000 - val_mae: 148992.0156 - val_mse: 51612622848.0000\n",
            "Epoch 398/400\n",
            "55/55 - 0s - loss: 50747482112.0000 - mae: 149450.4062 - mse: 50747482112.0000 - val_loss: 52390531072.0000 - val_mae: 145097.4062 - val_mse: 52390531072.0000\n",
            "Epoch 399/400\n",
            "55/55 - 0s - loss: 50828513280.0000 - mae: 149436.2969 - mse: 50828513280.0000 - val_loss: 51788926976.0000 - val_mae: 144830.5156 - val_mse: 51788926976.0000\n",
            "Epoch 400/400\n",
            "55/55 - 0s - loss: 50204184576.0000 - mae: 148393.3438 - mse: 50204184576.0000 - val_loss: 51816091648.0000 - val_mae: 148420.0625 - val_mse: 51816091648.0000\n"
          ],
          "name": "stdout"
        }
      ]
    },
    {
      "cell_type": "code",
      "metadata": {
        "id": "CnK8fr1xPVD6",
        "colab_type": "code",
        "outputId": "2304d4ce-cec6-4379-9464-a847a5d10c3b",
        "colab": {
          "base_uri": "https://localhost:8080/",
          "height": 194
        }
      },
      "source": [
        "hist = pd.DataFrame(history.history)\n",
        "hist['epoch'] = history.epoch\n",
        "hist.tail()\n"
      ],
      "execution_count": 0,
      "outputs": [
        {
          "output_type": "execute_result",
          "data": {
            "text/html": [
              "<div>\n",
              "<style scoped>\n",
              "    .dataframe tbody tr th:only-of-type {\n",
              "        vertical-align: middle;\n",
              "    }\n",
              "\n",
              "    .dataframe tbody tr th {\n",
              "        vertical-align: top;\n",
              "    }\n",
              "\n",
              "    .dataframe thead th {\n",
              "        text-align: right;\n",
              "    }\n",
              "</style>\n",
              "<table border=\"1\" class=\"dataframe\">\n",
              "  <thead>\n",
              "    <tr style=\"text-align: right;\">\n",
              "      <th></th>\n",
              "      <th>loss</th>\n",
              "      <th>mae</th>\n",
              "      <th>mse</th>\n",
              "      <th>val_loss</th>\n",
              "      <th>val_mae</th>\n",
              "      <th>val_mse</th>\n",
              "      <th>epoch</th>\n",
              "    </tr>\n",
              "  </thead>\n",
              "  <tbody>\n",
              "    <tr>\n",
              "      <th>395</th>\n",
              "      <td>5.053047e+10</td>\n",
              "      <td>149030.406250</td>\n",
              "      <td>5.053047e+10</td>\n",
              "      <td>5.184745e+10</td>\n",
              "      <td>145228.218750</td>\n",
              "      <td>5.184745e+10</td>\n",
              "      <td>395</td>\n",
              "    </tr>\n",
              "    <tr>\n",
              "      <th>396</th>\n",
              "      <td>5.066346e+10</td>\n",
              "      <td>149155.828125</td>\n",
              "      <td>5.066346e+10</td>\n",
              "      <td>5.161262e+10</td>\n",
              "      <td>148992.015625</td>\n",
              "      <td>5.161262e+10</td>\n",
              "      <td>396</td>\n",
              "    </tr>\n",
              "    <tr>\n",
              "      <th>397</th>\n",
              "      <td>5.074748e+10</td>\n",
              "      <td>149450.406250</td>\n",
              "      <td>5.074748e+10</td>\n",
              "      <td>5.239053e+10</td>\n",
              "      <td>145097.406250</td>\n",
              "      <td>5.239053e+10</td>\n",
              "      <td>397</td>\n",
              "    </tr>\n",
              "    <tr>\n",
              "      <th>398</th>\n",
              "      <td>5.082851e+10</td>\n",
              "      <td>149436.296875</td>\n",
              "      <td>5.082851e+10</td>\n",
              "      <td>5.178893e+10</td>\n",
              "      <td>144830.515625</td>\n",
              "      <td>5.178893e+10</td>\n",
              "      <td>398</td>\n",
              "    </tr>\n",
              "    <tr>\n",
              "      <th>399</th>\n",
              "      <td>5.020418e+10</td>\n",
              "      <td>148393.343750</td>\n",
              "      <td>5.020418e+10</td>\n",
              "      <td>5.181609e+10</td>\n",
              "      <td>148420.062500</td>\n",
              "      <td>5.181609e+10</td>\n",
              "      <td>399</td>\n",
              "    </tr>\n",
              "  </tbody>\n",
              "</table>\n",
              "</div>"
            ],
            "text/plain": [
              "             loss            mae  ...       val_mse  epoch\n",
              "395  5.053047e+10  149030.406250  ...  5.184745e+10    395\n",
              "396  5.066346e+10  149155.828125  ...  5.161262e+10    396\n",
              "397  5.074748e+10  149450.406250  ...  5.239053e+10    397\n",
              "398  5.082851e+10  149436.296875  ...  5.178893e+10    398\n",
              "399  5.020418e+10  148393.343750  ...  5.181609e+10    399\n",
              "\n",
              "[5 rows x 7 columns]"
            ]
          },
          "metadata": {
            "tags": []
          },
          "execution_count": 86
        }
      ]
    },
    {
      "cell_type": "code",
      "metadata": {
        "id": "8PLVUwneQxVf",
        "colab_type": "code",
        "outputId": "ab42ba8e-c7dc-4072-c23d-686616855dae",
        "colab": {
          "base_uri": "https://localhost:8080/",
          "height": 294
        }
      },
      "source": [
        "hist.plot()"
      ],
      "execution_count": 0,
      "outputs": [
        {
          "output_type": "execute_result",
          "data": {
            "text/plain": [
              "<matplotlib.axes._subplots.AxesSubplot at 0x7f0c5b14deb8>"
            ]
          },
          "metadata": {
            "tags": []
          },
          "execution_count": 87
        },
        {
          "output_type": "display_data",
          "data": {
            "image/png": "[encoded data removed]",
            "text/plain": [
              "<Figure size 432x288 with 1 Axes>"
            ]
          },
          "metadata": {
            "tags": [],
            "needs_background": "light"
          }
        }
      ]
    },
    {
      "cell_type": "code",
      "metadata": {
        "id": "iANjJ7YbR2Mo",
        "colab_type": "code",
        "colab": {}
      },
      "source": [
        "from sklearn.metrics import mean_squared_error,mean_absolute_error,explained_variance_score,r2_score"
      ],
      "execution_count": 0,
      "outputs": []
    },
    {
      "cell_type": "code",
      "metadata": {
        "id": "wrOphNfATfb4",
        "colab_type": "code",
        "colab": {}
      },
      "source": [
        "preds = model.predict(xTest)"
      ],
      "execution_count": 0,
      "outputs": []
    },
    {
      "cell_type": "code",
      "metadata": {
        "id": "VrZuEzn9Tj-y",
        "colab_type": "code",
        "outputId": "90362f0b-146e-4763-f3bf-b9f90b6cc284",
        "colab": {
          "base_uri": "https://localhost:8080/",
          "height": 35
        }
      },
      "source": [
        "mean_absolute_error(yTest,preds)"
      ],
      "execution_count": 0,
      "outputs": [
        {
          "output_type": "execute_result",
          "data": {
            "text/plain": [
              "147297.99726390815"
            ]
          },
          "metadata": {
            "tags": []
          },
          "execution_count": 93
        }
      ]
    },
    {
      "cell_type": "code",
      "metadata": {
        "id": "1SDJZ06gToAP",
        "colab_type": "code",
        "outputId": "52899407-147c-40a4-da37-a8000d2fc396",
        "colab": {
          "base_uri": "https://localhost:8080/",
          "height": 35
        }
      },
      "source": [
        "np.sqrt(mean_squared_error(yTest,preds))"
      ],
      "execution_count": 0,
      "outputs": [
        {
          "output_type": "execute_result",
          "data": {
            "text/plain": [
              "217747.6516685942"
            ]
          },
          "metadata": {
            "tags": []
          },
          "execution_count": 94
        }
      ]
    },
    {
      "cell_type": "code",
      "metadata": {
        "id": "v7aYsHXNTsLL",
        "colab_type": "code",
        "outputId": "5ef61109-ffe3-4adc-bcd8-cb03217a49c6",
        "colab": {
          "base_uri": "https://localhost:8080/",
          "height": 35
        }
      },
      "source": [
        "explained_variance_score(yTest,preds)"
      ],
      "execution_count": 0,
      "outputs": [
        {
          "output_type": "execute_result",
          "data": {
            "text/plain": [
              "0.6024991268394141"
            ]
          },
          "metadata": {
            "tags": []
          },
          "execution_count": 96
        }
      ]
    },
    {
      "cell_type": "code",
      "metadata": {
        "id": "zdGJkHWSTwuF",
        "colab_type": "code",
        "outputId": "99a83039-afa6-4af7-8331-28a0af34ffc7",
        "colab": {
          "base_uri": "https://localhost:8080/",
          "height": 35
        }
      },
      "source": [
        "r2_score(yTest,preds)"
      ],
      "execution_count": 0,
      "outputs": [
        {
          "output_type": "execute_result",
          "data": {
            "text/plain": [
              "0.601308966726411"
            ]
          },
          "metadata": {
            "tags": []
          },
          "execution_count": 97
        }
      ]
    },
    {
      "cell_type": "code",
      "metadata": {
        "id": "-qnSLDS7T0oC",
        "colab_type": "code",
        "outputId": "9597cef6-d901-48cb-e6e8-1fafeeefd4bd",
        "colab": {
          "base_uri": "https://localhost:8080/",
          "height": 307
        }
      },
      "source": [
        "plt.scatter(yTest,preds)\n",
        "plt.plot(yTest,yTest,color='blue')"
      ],
      "execution_count": 0,
      "outputs": [
        {
          "output_type": "execute_result",
          "data": {
            "text/plain": [
              "[<matplotlib.lines.Line2D at 0x7f0c5b1634e0>]"
            ]
          },
          "metadata": {
            "tags": []
          },
          "execution_count": 100
        },
        {
          "output_type": "display_data",
          "data": {
            "image/png": "[encoded data removed]",
            "text/plain": [
              "<Figure size 432x288 with 1 Axes>"
            ]
          },
          "metadata": {
            "tags": [],
            "needs_background": "light"
          }
        }
      ]
    },
    {
      "cell_type": "code",
      "metadata": {
        "id": "QyFqOhFvT9DE",
        "colab_type": "code",
        "colab": {}
      },
      "source": [
        "errors = yTest.values.reshape(len(yTest),1)-preds"
      ],
      "execution_count": 0,
      "outputs": []
    },
    {
      "cell_type": "code",
      "metadata": {
        "id": "vWQcKxomUMLs",
        "colab_type": "code",
        "outputId": "7190600d-b91d-4ad3-8fb0-c36dcc9a4a5d",
        "colab": {
          "base_uri": "https://localhost:8080/",
          "height": 307
        }
      },
      "source": [
        "sns.distplot(errors)"
      ],
      "execution_count": 0,
      "outputs": [
        {
          "output_type": "execute_result",
          "data": {
            "text/plain": [
              "<matplotlib.axes._subplots.AxesSubplot at 0x7f0c5af64710>"
            ]
          },
          "metadata": {
            "tags": []
          },
          "execution_count": 102
        },
        {
          "output_type": "display_data",
          "data": {
            "image/png": "[encoded data removed]",
            "text/plain": [
              "<Figure size 432x288 with 1 Axes>"
            ]
          },
          "metadata": {
            "tags": [],
            "needs_background": "light"
          }
        }
      ]
    }
  ]
}